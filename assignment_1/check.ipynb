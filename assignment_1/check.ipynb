{
 "cells": [
  {
   "cell_type": "code",
   "execution_count": 1,
   "id": "e0494ffd-13cf-4c23-895c-d068be30a506",
   "metadata": {},
   "outputs": [
    {
     "name": "stderr",
     "output_type": "stream",
     "text": [
      "Setting default log level to \"WARN\".\n",
      "To adjust logging level use sc.setLogLevel(newLevel). For SparkR, use setLogLevel(newLevel).\n",
      "25/05/22 10:48:32 WARN NativeCodeLoader: Unable to load native-hadoop library for your platform... using builtin-java classes where applicable\n"
     ]
    },
    {
     "name": "stdout",
     "output_type": "stream",
     "text": [
      "Processing dates: ['2023-01-01', '2023-02-01', '2023-03-01', '2023-04-01', '2023-05-01', '2023-06-01', '2023-07-01', '2023-08-01', '2023-09-01', '2023-10-01', '2023-11-01', '2023-12-01', '2024-01-01', '2024-02-01', '2024-03-01', '2024-04-01', '2024-05-01', '2024-06-01', '2024-07-01', '2024-08-01', '2024-09-01', '2024-10-01', '2024-11-01', '2024-12-01']\n",
      "\n",
      "--- Processing Label Store ---\n",
      "\n",
      "Processing Bronze Label Store Tables:\n",
      "2023-01-01row count: 530\n",
      "saved to: datamart/bronze/lms/bronze_loan_daily_2023_01_01.csv\n",
      "2023-02-01row count: 1031\n",
      "saved to: datamart/bronze/lms/bronze_loan_daily_2023_02_01.csv\n",
      "2023-03-01row count: 1537\n",
      "saved to: datamart/bronze/lms/bronze_loan_daily_2023_03_01.csv\n",
      "2023-04-01row count: 2047\n",
      "saved to: datamart/bronze/lms/bronze_loan_daily_2023_04_01.csv\n",
      "2023-05-01row count: 2568\n",
      "saved to: datamart/bronze/lms/bronze_loan_daily_2023_05_01.csv\n",
      "2023-06-01row count: 3085\n",
      "saved to: datamart/bronze/lms/bronze_loan_daily_2023_06_01.csv\n",
      "2023-07-01row count: 3556\n",
      "saved to: datamart/bronze/lms/bronze_loan_daily_2023_07_01.csv\n",
      "2023-08-01row count: 4037\n",
      "saved to: datamart/bronze/lms/bronze_loan_daily_2023_08_01.csv\n",
      "2023-09-01row count: 4491\n",
      "saved to: datamart/bronze/lms/bronze_loan_daily_2023_09_01.csv\n",
      "2023-10-01row count: 4978\n",
      "saved to: datamart/bronze/lms/bronze_loan_daily_2023_10_01.csv\n",
      "2023-11-01row count: 5469\n",
      "saved to: datamart/bronze/lms/bronze_loan_daily_2023_11_01.csv\n",
      "2023-12-01row count: 5428\n",
      "saved to: datamart/bronze/lms/bronze_loan_daily_2023_12_01.csv\n",
      "2024-01-01row count: 5412\n",
      "saved to: datamart/bronze/lms/bronze_loan_daily_2024_01_01.csv\n",
      "2024-02-01row count: 5424\n",
      "saved to: datamart/bronze/lms/bronze_loan_daily_2024_02_01.csv\n",
      "2024-03-01row count: 5425\n",
      "saved to: datamart/bronze/lms/bronze_loan_daily_2024_03_01.csv\n",
      "2024-04-01row count: 5417\n",
      "saved to: datamart/bronze/lms/bronze_loan_daily_2024_04_01.csv\n",
      "2024-05-01row count: 5391\n",
      "saved to: datamart/bronze/lms/bronze_loan_daily_2024_05_01.csv\n",
      "2024-06-01row count: 5418\n",
      "saved to: datamart/bronze/lms/bronze_loan_daily_2024_06_01.csv\n",
      "2024-07-01row count: 5442\n",
      "saved to: datamart/bronze/lms/bronze_loan_daily_2024_07_01.csv\n",
      "2024-08-01row count: 5531\n",
      "saved to: datamart/bronze/lms/bronze_loan_daily_2024_08_01.csv\n",
      "2024-09-01row count: 5537\n",
      "saved to: datamart/bronze/lms/bronze_loan_daily_2024_09_01.csv\n",
      "2024-10-01row count: 5502\n",
      "saved to: datamart/bronze/lms/bronze_loan_daily_2024_10_01.csv\n",
      "2024-11-01row count: 5501\n",
      "saved to: datamart/bronze/lms/bronze_loan_daily_2024_11_01.csv\n",
      "2024-12-01row count: 5531\n",
      "saved to: datamart/bronze/lms/bronze_loan_daily_2024_12_01.csv\n",
      "\n",
      "Processing Silver Label Store Tables:\n",
      "loaded from: datamart/bronze/lms/bronze_loan_daily_2023_01_01.csv row count: 530\n"
     ]
    },
    {
     "name": "stderr",
     "output_type": "stream",
     "text": [
      "                                                                                "
     ]
    },
    {
     "name": "stdout",
     "output_type": "stream",
     "text": [
      "saved to: datamart/silver/loan_daily/silver_loan_daily_2023_01_01.parquet\n",
      "loaded from: datamart/bronze/lms/bronze_loan_daily_2023_02_01.csv row count: 1031\n",
      "saved to: datamart/silver/loan_daily/silver_loan_daily_2023_02_01.parquet\n",
      "loaded from: datamart/bronze/lms/bronze_loan_daily_2023_03_01.csv row count: 1537\n",
      "saved to: datamart/silver/loan_daily/silver_loan_daily_2023_03_01.parquet\n",
      "loaded from: datamart/bronze/lms/bronze_loan_daily_2023_04_01.csv row count: 2047\n",
      "saved to: datamart/silver/loan_daily/silver_loan_daily_2023_04_01.parquet\n",
      "loaded from: datamart/bronze/lms/bronze_loan_daily_2023_05_01.csv row count: 2568\n",
      "saved to: datamart/silver/loan_daily/silver_loan_daily_2023_05_01.parquet\n",
      "loaded from: datamart/bronze/lms/bronze_loan_daily_2023_06_01.csv row count: 3085\n"
     ]
    },
    {
     "name": "stderr",
     "output_type": "stream",
     "text": [
      "                                                                                "
     ]
    },
    {
     "name": "stdout",
     "output_type": "stream",
     "text": [
      "saved to: datamart/silver/loan_daily/silver_loan_daily_2023_06_01.parquet\n",
      "loaded from: datamart/bronze/lms/bronze_loan_daily_2023_07_01.csv row count: 3556\n",
      "saved to: datamart/silver/loan_daily/silver_loan_daily_2023_07_01.parquet\n",
      "loaded from: datamart/bronze/lms/bronze_loan_daily_2023_08_01.csv row count: 4037\n"
     ]
    },
    {
     "name": "stderr",
     "output_type": "stream",
     "text": [
      "                                                                                "
     ]
    },
    {
     "name": "stdout",
     "output_type": "stream",
     "text": [
      "saved to: datamart/silver/loan_daily/silver_loan_daily_2023_08_01.parquet\n",
      "loaded from: datamart/bronze/lms/bronze_loan_daily_2023_09_01.csv row count: 4491\n",
      "saved to: datamart/silver/loan_daily/silver_loan_daily_2023_09_01.parquet\n",
      "loaded from: datamart/bronze/lms/bronze_loan_daily_2023_10_01.csv row count: 4978\n",
      "saved to: datamart/silver/loan_daily/silver_loan_daily_2023_10_01.parquet\n",
      "loaded from: datamart/bronze/lms/bronze_loan_daily_2023_11_01.csv row count: 5469\n",
      "saved to: datamart/silver/loan_daily/silver_loan_daily_2023_11_01.parquet\n",
      "loaded from: datamart/bronze/lms/bronze_loan_daily_2023_12_01.csv row count: 5428\n",
      "saved to: datamart/silver/loan_daily/silver_loan_daily_2023_12_01.parquet\n",
      "loaded from: datamart/bronze/lms/bronze_loan_daily_2024_01_01.csv row count: 5412\n",
      "saved to: datamart/silver/loan_daily/silver_loan_daily_2024_01_01.parquet\n",
      "loaded from: datamart/bronze/lms/bronze_loan_daily_2024_02_01.csv row count: 5424\n",
      "saved to: datamart/silver/loan_daily/silver_loan_daily_2024_02_01.parquet\n",
      "loaded from: datamart/bronze/lms/bronze_loan_daily_2024_03_01.csv row count: 5425\n",
      "saved to: datamart/silver/loan_daily/silver_loan_daily_2024_03_01.parquet\n",
      "loaded from: datamart/bronze/lms/bronze_loan_daily_2024_04_01.csv row count: 5417\n"
     ]
    },
    {
     "name": "stderr",
     "output_type": "stream",
     "text": [
      "                                                                                "
     ]
    },
    {
     "name": "stdout",
     "output_type": "stream",
     "text": [
      "saved to: datamart/silver/loan_daily/silver_loan_daily_2024_04_01.parquet\n",
      "loaded from: datamart/bronze/lms/bronze_loan_daily_2024_05_01.csv row count: 5391\n"
     ]
    },
    {
     "name": "stderr",
     "output_type": "stream",
     "text": [
      "                                                                                "
     ]
    },
    {
     "name": "stdout",
     "output_type": "stream",
     "text": [
      "saved to: datamart/silver/loan_daily/silver_loan_daily_2024_05_01.parquet\n",
      "loaded from: datamart/bronze/lms/bronze_loan_daily_2024_06_01.csv row count: 5418\n"
     ]
    },
    {
     "name": "stderr",
     "output_type": "stream",
     "text": [
      "                                                                                "
     ]
    },
    {
     "name": "stdout",
     "output_type": "stream",
     "text": [
      "saved to: datamart/silver/loan_daily/silver_loan_daily_2024_06_01.parquet\n",
      "loaded from: datamart/bronze/lms/bronze_loan_daily_2024_07_01.csv row count: 5442\n"
     ]
    },
    {
     "name": "stderr",
     "output_type": "stream",
     "text": [
      "                                                                                "
     ]
    },
    {
     "name": "stdout",
     "output_type": "stream",
     "text": [
      "saved to: datamart/silver/loan_daily/silver_loan_daily_2024_07_01.parquet\n",
      "loaded from: datamart/bronze/lms/bronze_loan_daily_2024_08_01.csv row count: 5531\n",
      "saved to: datamart/silver/loan_daily/silver_loan_daily_2024_08_01.parquet\n",
      "loaded from: datamart/bronze/lms/bronze_loan_daily_2024_09_01.csv row count: 5537\n",
      "saved to: datamart/silver/loan_daily/silver_loan_daily_2024_09_01.parquet\n",
      "loaded from: datamart/bronze/lms/bronze_loan_daily_2024_10_01.csv row count: 5502\n"
     ]
    },
    {
     "name": "stderr",
     "output_type": "stream",
     "text": [
      "                                                                                "
     ]
    },
    {
     "name": "stdout",
     "output_type": "stream",
     "text": [
      "saved to: datamart/silver/loan_daily/silver_loan_daily_2024_10_01.parquet\n",
      "loaded from: datamart/bronze/lms/bronze_loan_daily_2024_11_01.csv row count: 5501\n"
     ]
    },
    {
     "name": "stderr",
     "output_type": "stream",
     "text": [
      "                                                                                "
     ]
    },
    {
     "name": "stdout",
     "output_type": "stream",
     "text": [
      "saved to: datamart/silver/loan_daily/silver_loan_daily_2024_11_01.parquet\n",
      "loaded from: datamart/bronze/lms/bronze_loan_daily_2024_12_01.csv row count: 5531\n",
      "saved to: datamart/silver/loan_daily/silver_loan_daily_2024_12_01.parquet\n",
      "\n",
      "Processing Gold Label Store Tables:\n",
      "loaded from: datamart/silver/loan_daily/silver_loan_daily_2023_01_01.parquet row count: 530\n"
     ]
    },
    {
     "name": "stderr",
     "output_type": "stream",
     "text": [
      "                                                                                "
     ]
    },
    {
     "name": "stdout",
     "output_type": "stream",
     "text": [
      "saved to: datamart/gold/label_store/gold_label_store_2023_01_01.parquet\n",
      "loaded from: datamart/silver/loan_daily/silver_loan_daily_2023_02_01.parquet row count: 1031\n"
     ]
    },
    {
     "name": "stderr",
     "output_type": "stream",
     "text": [
      "                                                                                "
     ]
    },
    {
     "name": "stdout",
     "output_type": "stream",
     "text": [
      "saved to: datamart/gold/label_store/gold_label_store_2023_02_01.parquet\n",
      "loaded from: datamart/silver/loan_daily/silver_loan_daily_2023_03_01.parquet row count: 1537\n",
      "saved to: datamart/gold/label_store/gold_label_store_2023_03_01.parquet\n",
      "loaded from: datamart/silver/loan_daily/silver_loan_daily_2023_04_01.parquet row count: 2047\n"
     ]
    },
    {
     "name": "stderr",
     "output_type": "stream",
     "text": [
      "                                                                                "
     ]
    },
    {
     "name": "stdout",
     "output_type": "stream",
     "text": [
      "saved to: datamart/gold/label_store/gold_label_store_2023_04_01.parquet\n",
      "loaded from: datamart/silver/loan_daily/silver_loan_daily_2023_05_01.parquet row count: 2568\n",
      "saved to: datamart/gold/label_store/gold_label_store_2023_05_01.parquet\n",
      "loaded from: datamart/silver/loan_daily/silver_loan_daily_2023_06_01.parquet row count: 3085\n"
     ]
    },
    {
     "name": "stderr",
     "output_type": "stream",
     "text": [
      "                                                                                "
     ]
    },
    {
     "name": "stdout",
     "output_type": "stream",
     "text": [
      "saved to: datamart/gold/label_store/gold_label_store_2023_06_01.parquet\n",
      "loaded from: datamart/silver/loan_daily/silver_loan_daily_2023_07_01.parquet row count: 3556\n"
     ]
    },
    {
     "name": "stderr",
     "output_type": "stream",
     "text": [
      "                                                                                "
     ]
    },
    {
     "name": "stdout",
     "output_type": "stream",
     "text": [
      "saved to: datamart/gold/label_store/gold_label_store_2023_07_01.parquet\n",
      "loaded from: datamart/silver/loan_daily/silver_loan_daily_2023_08_01.parquet row count: 4037\n"
     ]
    },
    {
     "name": "stderr",
     "output_type": "stream",
     "text": [
      "                                                                                "
     ]
    },
    {
     "name": "stdout",
     "output_type": "stream",
     "text": [
      "saved to: datamart/gold/label_store/gold_label_store_2023_08_01.parquet\n",
      "loaded from: datamart/silver/loan_daily/silver_loan_daily_2023_09_01.parquet row count: 4491\n"
     ]
    },
    {
     "name": "stderr",
     "output_type": "stream",
     "text": [
      "                                                                                "
     ]
    },
    {
     "name": "stdout",
     "output_type": "stream",
     "text": [
      "saved to: datamart/gold/label_store/gold_label_store_2023_09_01.parquet\n",
      "loaded from: datamart/silver/loan_daily/silver_loan_daily_2023_10_01.parquet row count: 4978\n"
     ]
    },
    {
     "name": "stderr",
     "output_type": "stream",
     "text": [
      "                                                                                "
     ]
    },
    {
     "name": "stdout",
     "output_type": "stream",
     "text": [
      "saved to: datamart/gold/label_store/gold_label_store_2023_10_01.parquet\n",
      "loaded from: datamart/silver/loan_daily/silver_loan_daily_2023_11_01.parquet row count: 5469\n"
     ]
    },
    {
     "name": "stderr",
     "output_type": "stream",
     "text": [
      "                                                                                "
     ]
    },
    {
     "name": "stdout",
     "output_type": "stream",
     "text": [
      "saved to: datamart/gold/label_store/gold_label_store_2023_11_01.parquet\n",
      "loaded from: datamart/silver/loan_daily/silver_loan_daily_2023_12_01.parquet row count: 5428\n"
     ]
    },
    {
     "name": "stderr",
     "output_type": "stream",
     "text": [
      "                                                                                "
     ]
    },
    {
     "name": "stdout",
     "output_type": "stream",
     "text": [
      "saved to: datamart/gold/label_store/gold_label_store_2023_12_01.parquet\n",
      "loaded from: datamart/silver/loan_daily/silver_loan_daily_2024_01_01.parquet row count: 5412\n"
     ]
    },
    {
     "name": "stderr",
     "output_type": "stream",
     "text": [
      "                                                                                "
     ]
    },
    {
     "name": "stdout",
     "output_type": "stream",
     "text": [
      "saved to: datamart/gold/label_store/gold_label_store_2024_01_01.parquet\n",
      "loaded from: datamart/silver/loan_daily/silver_loan_daily_2024_02_01.parquet row count: 5424\n"
     ]
    },
    {
     "name": "stderr",
     "output_type": "stream",
     "text": [
      "                                                                                "
     ]
    },
    {
     "name": "stdout",
     "output_type": "stream",
     "text": [
      "saved to: datamart/gold/label_store/gold_label_store_2024_02_01.parquet\n",
      "loaded from: datamart/silver/loan_daily/silver_loan_daily_2024_03_01.parquet row count: 5425\n"
     ]
    },
    {
     "name": "stderr",
     "output_type": "stream",
     "text": [
      "                                                                                "
     ]
    },
    {
     "name": "stdout",
     "output_type": "stream",
     "text": [
      "saved to: datamart/gold/label_store/gold_label_store_2024_03_01.parquet\n",
      "loaded from: datamart/silver/loan_daily/silver_loan_daily_2024_04_01.parquet row count: 5417\n"
     ]
    },
    {
     "name": "stderr",
     "output_type": "stream",
     "text": [
      "                                                                                "
     ]
    },
    {
     "name": "stdout",
     "output_type": "stream",
     "text": [
      "saved to: datamart/gold/label_store/gold_label_store_2024_04_01.parquet\n",
      "loaded from: datamart/silver/loan_daily/silver_loan_daily_2024_05_01.parquet row count: 5391\n"
     ]
    },
    {
     "name": "stderr",
     "output_type": "stream",
     "text": [
      "                                                                                "
     ]
    },
    {
     "name": "stdout",
     "output_type": "stream",
     "text": [
      "saved to: datamart/gold/label_store/gold_label_store_2024_05_01.parquet\n",
      "loaded from: datamart/silver/loan_daily/silver_loan_daily_2024_06_01.parquet row count: 5418\n"
     ]
    },
    {
     "name": "stderr",
     "output_type": "stream",
     "text": [
      "                                                                                "
     ]
    },
    {
     "name": "stdout",
     "output_type": "stream",
     "text": [
      "saved to: datamart/gold/label_store/gold_label_store_2024_06_01.parquet\n",
      "loaded from: datamart/silver/loan_daily/silver_loan_daily_2024_07_01.parquet row count: 5442\n"
     ]
    },
    {
     "name": "stderr",
     "output_type": "stream",
     "text": [
      "                                                                                "
     ]
    },
    {
     "name": "stdout",
     "output_type": "stream",
     "text": [
      "saved to: datamart/gold/label_store/gold_label_store_2024_07_01.parquet\n",
      "loaded from: datamart/silver/loan_daily/silver_loan_daily_2024_08_01.parquet row count: 5531\n"
     ]
    },
    {
     "name": "stderr",
     "output_type": "stream",
     "text": [
      "                                                                                "
     ]
    },
    {
     "name": "stdout",
     "output_type": "stream",
     "text": [
      "saved to: datamart/gold/label_store/gold_label_store_2024_08_01.parquet\n",
      "loaded from: datamart/silver/loan_daily/silver_loan_daily_2024_09_01.parquet row count: 5537\n",
      "saved to: datamart/gold/label_store/gold_label_store_2024_09_01.parquet\n",
      "loaded from: datamart/silver/loan_daily/silver_loan_daily_2024_10_01.parquet row count: 5502\n"
     ]
    },
    {
     "name": "stderr",
     "output_type": "stream",
     "text": [
      "                                                                                "
     ]
    },
    {
     "name": "stdout",
     "output_type": "stream",
     "text": [
      "saved to: datamart/gold/label_store/gold_label_store_2024_10_01.parquet\n",
      "loaded from: datamart/silver/loan_daily/silver_loan_daily_2024_11_01.parquet row count: 5501\n",
      "saved to: datamart/gold/label_store/gold_label_store_2024_11_01.parquet\n",
      "loaded from: datamart/silver/loan_daily/silver_loan_daily_2024_12_01.parquet row count: 5531\n"
     ]
    },
    {
     "name": "stderr",
     "output_type": "stream",
     "text": [
      "                                                                                "
     ]
    },
    {
     "name": "stdout",
     "output_type": "stream",
     "text": [
      "saved to: datamart/gold/label_store/gold_label_store_2024_12_01.parquet\n",
      "\n",
      "--- Processing Feature Store ---\n",
      "\n",
      "Processing Bronze Feature Store Tables:\n",
      "Clickstream 2023-01-01 row count: 8974\n",
      "saved to: datamart/bronze/clickstream/bronze_clickstream_2023_01_01.csv\n",
      "Attributes 2023-01-01 row count: 530\n",
      "saved to: datamart/bronze/attributes/bronze_attributes_2023_01_01.csv\n",
      "Financials 2023-01-01 row count: 530\n",
      "saved to: datamart/bronze/financials/bronze_financials_2023_01_01.csv\n",
      "Loan 2023-01-01 row count: 530\n",
      "saved to: datamart/bronze/loan/bronze_loan_2023_01_01.csv\n",
      "Clickstream 2023-02-01 row count: 8974\n",
      "saved to: datamart/bronze/clickstream/bronze_clickstream_2023_02_01.csv\n",
      "Attributes 2023-02-01 row count: 1031\n",
      "saved to: datamart/bronze/attributes/bronze_attributes_2023_02_01.csv\n",
      "Financials 2023-02-01 row count: 1031\n",
      "saved to: datamart/bronze/financials/bronze_financials_2023_02_01.csv\n",
      "Loan 2023-02-01 row count: 1031\n",
      "saved to: datamart/bronze/loan/bronze_loan_2023_02_01.csv\n",
      "Clickstream 2023-03-01 row count: 8974\n",
      "saved to: datamart/bronze/clickstream/bronze_clickstream_2023_03_01.csv\n",
      "Attributes 2023-03-01 row count: 1537\n",
      "saved to: datamart/bronze/attributes/bronze_attributes_2023_03_01.csv\n",
      "Financials 2023-03-01 row count: 1537\n",
      "saved to: datamart/bronze/financials/bronze_financials_2023_03_01.csv\n",
      "Loan 2023-03-01 row count: 1537\n",
      "saved to: datamart/bronze/loan/bronze_loan_2023_03_01.csv\n",
      "Clickstream 2023-04-01 row count: 8974\n",
      "saved to: datamart/bronze/clickstream/bronze_clickstream_2023_04_01.csv\n",
      "Attributes 2023-04-01 row count: 2047\n",
      "saved to: datamart/bronze/attributes/bronze_attributes_2023_04_01.csv\n",
      "Financials 2023-04-01 row count: 2047\n",
      "saved to: datamart/bronze/financials/bronze_financials_2023_04_01.csv\n",
      "Loan 2023-04-01 row count: 2047\n",
      "saved to: datamart/bronze/loan/bronze_loan_2023_04_01.csv\n",
      "Clickstream 2023-05-01 row count: 8974\n",
      "saved to: datamart/bronze/clickstream/bronze_clickstream_2023_05_01.csv\n",
      "Attributes 2023-05-01 row count: 2568\n",
      "saved to: datamart/bronze/attributes/bronze_attributes_2023_05_01.csv\n",
      "Financials 2023-05-01 row count: 2568\n",
      "saved to: datamart/bronze/financials/bronze_financials_2023_05_01.csv\n",
      "Loan 2023-05-01 row count: 2568\n",
      "saved to: datamart/bronze/loan/bronze_loan_2023_05_01.csv\n",
      "Clickstream 2023-06-01 row count: 8974\n",
      "saved to: datamart/bronze/clickstream/bronze_clickstream_2023_06_01.csv\n",
      "Attributes 2023-06-01 row count: 3085\n",
      "saved to: datamart/bronze/attributes/bronze_attributes_2023_06_01.csv\n",
      "Financials 2023-06-01 row count: 3085\n",
      "saved to: datamart/bronze/financials/bronze_financials_2023_06_01.csv\n",
      "Loan 2023-06-01 row count: 3085\n",
      "saved to: datamart/bronze/loan/bronze_loan_2023_06_01.csv\n",
      "Clickstream 2023-07-01 row count: 8974\n",
      "saved to: datamart/bronze/clickstream/bronze_clickstream_2023_07_01.csv\n",
      "Attributes 2023-07-01 row count: 3556\n",
      "saved to: datamart/bronze/attributes/bronze_attributes_2023_07_01.csv\n",
      "Financials 2023-07-01 row count: 3556\n",
      "saved to: datamart/bronze/financials/bronze_financials_2023_07_01.csv\n",
      "Loan 2023-07-01 row count: 3556\n",
      "saved to: datamart/bronze/loan/bronze_loan_2023_07_01.csv\n",
      "Clickstream 2023-08-01 row count: 8974\n",
      "saved to: datamart/bronze/clickstream/bronze_clickstream_2023_08_01.csv\n",
      "Attributes 2023-08-01 row count: 4037\n",
      "saved to: datamart/bronze/attributes/bronze_attributes_2023_08_01.csv\n",
      "Financials 2023-08-01 row count: 4037\n",
      "saved to: datamart/bronze/financials/bronze_financials_2023_08_01.csv\n",
      "Loan 2023-08-01 row count: 4037\n",
      "saved to: datamart/bronze/loan/bronze_loan_2023_08_01.csv\n",
      "Clickstream 2023-09-01 row count: 8974\n",
      "saved to: datamart/bronze/clickstream/bronze_clickstream_2023_09_01.csv\n",
      "Attributes 2023-09-01 row count: 4491\n",
      "saved to: datamart/bronze/attributes/bronze_attributes_2023_09_01.csv\n",
      "Financials 2023-09-01 row count: 4491\n",
      "saved to: datamart/bronze/financials/bronze_financials_2023_09_01.csv\n",
      "Loan 2023-09-01 row count: 4491\n",
      "saved to: datamart/bronze/loan/bronze_loan_2023_09_01.csv\n",
      "Clickstream 2023-10-01 row count: 8974\n",
      "saved to: datamart/bronze/clickstream/bronze_clickstream_2023_10_01.csv\n",
      "Attributes 2023-10-01 row count: 4978\n",
      "saved to: datamart/bronze/attributes/bronze_attributes_2023_10_01.csv\n",
      "Financials 2023-10-01 row count: 4978\n",
      "saved to: datamart/bronze/financials/bronze_financials_2023_10_01.csv\n",
      "Loan 2023-10-01 row count: 4978\n",
      "saved to: datamart/bronze/loan/bronze_loan_2023_10_01.csv\n",
      "Clickstream 2023-11-01 row count: 8974\n",
      "saved to: datamart/bronze/clickstream/bronze_clickstream_2023_11_01.csv\n",
      "Attributes 2023-11-01 row count: 5469\n",
      "saved to: datamart/bronze/attributes/bronze_attributes_2023_11_01.csv\n",
      "Financials 2023-11-01 row count: 5469\n",
      "saved to: datamart/bronze/financials/bronze_financials_2023_11_01.csv\n",
      "Loan 2023-11-01 row count: 5469\n",
      "saved to: datamart/bronze/loan/bronze_loan_2023_11_01.csv\n",
      "Clickstream 2023-12-01 row count: 8974\n",
      "saved to: datamart/bronze/clickstream/bronze_clickstream_2023_12_01.csv\n",
      "Attributes 2023-12-01 row count: 5958\n",
      "saved to: datamart/bronze/attributes/bronze_attributes_2023_12_01.csv\n",
      "Financials 2023-12-01 row count: 5958\n",
      "saved to: datamart/bronze/financials/bronze_financials_2023_12_01.csv\n",
      "Loan 2023-12-01 row count: 5428\n",
      "saved to: datamart/bronze/loan/bronze_loan_2023_12_01.csv\n",
      "Clickstream 2024-01-01 row count: 8974\n",
      "saved to: datamart/bronze/clickstream/bronze_clickstream_2024_01_01.csv\n",
      "Attributes 2024-01-01 row count: 6443\n",
      "saved to: datamart/bronze/attributes/bronze_attributes_2024_01_01.csv\n",
      "Financials 2024-01-01 row count: 6443\n",
      "saved to: datamart/bronze/financials/bronze_financials_2024_01_01.csv\n",
      "Loan 2024-01-01 row count: 5412\n",
      "saved to: datamart/bronze/loan/bronze_loan_2024_01_01.csv\n",
      "Clickstream 2024-02-01 row count: 8974\n",
      "saved to: datamart/bronze/clickstream/bronze_clickstream_2024_02_01.csv\n",
      "Attributes 2024-02-01 row count: 6961\n",
      "saved to: datamart/bronze/attributes/bronze_attributes_2024_02_01.csv\n",
      "Financials 2024-02-01 row count: 6961\n",
      "saved to: datamart/bronze/financials/bronze_financials_2024_02_01.csv\n",
      "Loan 2024-02-01 row count: 5424\n",
      "saved to: datamart/bronze/loan/bronze_loan_2024_02_01.csv\n",
      "Clickstream 2024-03-01 row count: 8974\n",
      "saved to: datamart/bronze/clickstream/bronze_clickstream_2024_03_01.csv\n",
      "Attributes 2024-03-01 row count: 7472\n",
      "saved to: datamart/bronze/attributes/bronze_attributes_2024_03_01.csv\n",
      "Financials 2024-03-01 row count: 7472\n",
      "saved to: datamart/bronze/financials/bronze_financials_2024_03_01.csv\n",
      "Loan 2024-03-01 row count: 5425\n",
      "saved to: datamart/bronze/loan/bronze_loan_2024_03_01.csv\n",
      "Clickstream 2024-04-01 row count: 8974\n",
      "saved to: datamart/bronze/clickstream/bronze_clickstream_2024_04_01.csv\n",
      "Attributes 2024-04-01 row count: 7985\n",
      "saved to: datamart/bronze/attributes/bronze_attributes_2024_04_01.csv\n",
      "Financials 2024-04-01 row count: 7985\n",
      "saved to: datamart/bronze/financials/bronze_financials_2024_04_01.csv\n",
      "Loan 2024-04-01 row count: 5417\n",
      "saved to: datamart/bronze/loan/bronze_loan_2024_04_01.csv\n",
      "Clickstream 2024-05-01 row count: 8974\n",
      "saved to: datamart/bronze/clickstream/bronze_clickstream_2024_05_01.csv\n",
      "Attributes 2024-05-01 row count: 8476\n",
      "saved to: datamart/bronze/attributes/bronze_attributes_2024_05_01.csv\n",
      "Financials 2024-05-01 row count: 8476\n",
      "saved to: datamart/bronze/financials/bronze_financials_2024_05_01.csv\n",
      "Loan 2024-05-01 row count: 5391\n",
      "saved to: datamart/bronze/loan/bronze_loan_2024_05_01.csv\n",
      "Clickstream 2024-06-01 row count: 8974\n",
      "saved to: datamart/bronze/clickstream/bronze_clickstream_2024_06_01.csv\n",
      "Attributes 2024-06-01 row count: 8974\n",
      "saved to: datamart/bronze/attributes/bronze_attributes_2024_06_01.csv\n",
      "Financials 2024-06-01 row count: 8974\n",
      "saved to: datamart/bronze/financials/bronze_financials_2024_06_01.csv\n",
      "Loan 2024-06-01 row count: 5418\n",
      "saved to: datamart/bronze/loan/bronze_loan_2024_06_01.csv\n",
      "Clickstream 2024-07-01 row count: 8974\n",
      "saved to: datamart/bronze/clickstream/bronze_clickstream_2024_07_01.csv\n",
      "Attributes 2024-07-01 row count: 9479\n",
      "saved to: datamart/bronze/attributes/bronze_attributes_2024_07_01.csv\n",
      "Financials 2024-07-01 row count: 9479\n",
      "saved to: datamart/bronze/financials/bronze_financials_2024_07_01.csv\n",
      "Loan 2024-07-01 row count: 5442\n",
      "saved to: datamart/bronze/loan/bronze_loan_2024_07_01.csv\n",
      "Clickstream 2024-08-01 row count: 8974\n",
      "saved to: datamart/bronze/clickstream/bronze_clickstream_2024_08_01.csv\n",
      "Attributes 2024-08-01 row count: 10022\n",
      "saved to: datamart/bronze/attributes/bronze_attributes_2024_08_01.csv\n",
      "Financials 2024-08-01 row count: 10022\n",
      "saved to: datamart/bronze/financials/bronze_financials_2024_08_01.csv\n",
      "Loan 2024-08-01 row count: 5531\n",
      "saved to: datamart/bronze/loan/bronze_loan_2024_08_01.csv\n",
      "Clickstream 2024-09-01 row count: 8974\n",
      "saved to: datamart/bronze/clickstream/bronze_clickstream_2024_09_01.csv\n",
      "Attributes 2024-09-01 row count: 10515\n",
      "saved to: datamart/bronze/attributes/bronze_attributes_2024_09_01.csv\n",
      "Financials 2024-09-01 row count: 10515\n",
      "saved to: datamart/bronze/financials/bronze_financials_2024_09_01.csv\n",
      "Loan 2024-09-01 row count: 5537\n",
      "saved to: datamart/bronze/loan/bronze_loan_2024_09_01.csv\n",
      "Clickstream 2024-10-01 row count: 8974\n",
      "saved to: datamart/bronze/clickstream/bronze_clickstream_2024_10_01.csv\n",
      "Attributes 2024-10-01 row count: 10971\n",
      "saved to: datamart/bronze/attributes/bronze_attributes_2024_10_01.csv\n",
      "Financials 2024-10-01 row count: 10971\n",
      "saved to: datamart/bronze/financials/bronze_financials_2024_10_01.csv\n",
      "Loan 2024-10-01 row count: 5502\n",
      "saved to: datamart/bronze/loan/bronze_loan_2024_10_01.csv\n",
      "Clickstream 2024-11-01 row count: 8974\n",
      "saved to: datamart/bronze/clickstream/bronze_clickstream_2024_11_01.csv\n",
      "Attributes 2024-11-01 row count: 11459\n",
      "saved to: datamart/bronze/attributes/bronze_attributes_2024_11_01.csv\n",
      "Financials 2024-11-01 row count: 11459\n",
      "saved to: datamart/bronze/financials/bronze_financials_2024_11_01.csv\n",
      "Loan 2024-11-01 row count: 5501\n",
      "saved to: datamart/bronze/loan/bronze_loan_2024_11_01.csv\n",
      "Clickstream 2024-12-01 row count: 8974\n",
      "saved to: datamart/bronze/clickstream/bronze_clickstream_2024_12_01.csv\n",
      "Attributes 2024-12-01 row count: 11974\n",
      "saved to: datamart/bronze/attributes/bronze_attributes_2024_12_01.csv\n",
      "Financials 2024-12-01 row count: 11974\n",
      "saved to: datamart/bronze/financials/bronze_financials_2024_12_01.csv\n",
      "Loan 2024-12-01 row count: 5531\n",
      "saved to: datamart/bronze/loan/bronze_loan_2024_12_01.csv\n",
      "\n",
      "Processing Silver Feature Store Tables:\n",
      "loaded from: datamart/bronze/clickstream/bronze_clickstream_2023_01_01.csv row count: 8974\n"
     ]
    },
    {
     "name": "stderr",
     "output_type": "stream",
     "text": [
      "                                                                                "
     ]
    },
    {
     "name": "stdout",
     "output_type": "stream",
     "text": [
      "saved to: datamart/silver/clickstream/silver_clickstream_2023_01_01.parquet\n",
      "loaded from: datamart/bronze/attributes/bronze_attributes_2023_01_01.csv row count: 530\n",
      "saved to: datamart/silver/attributes/silver_attributes_2023_01_01.parquet\n",
      "loaded from: datamart/bronze/financials/bronze_financials_2023_01_01.csv row count: 530\n",
      "saved to: datamart/silver/financials/silver_financials_2023_01_01.parquet\n",
      "loaded from: datamart/bronze/loan/bronze_loan_2023_01_01.csv row count: 530\n",
      "saved to: datamart/silver/loan/silver_loan_daily_2023_01_01.parquet\n",
      "loaded from: datamart/bronze/clickstream/bronze_clickstream_2023_02_01.csv row count: 8974\n"
     ]
    },
    {
     "name": "stderr",
     "output_type": "stream",
     "text": [
      "                                                                                "
     ]
    },
    {
     "name": "stdout",
     "output_type": "stream",
     "text": [
      "saved to: datamart/silver/clickstream/silver_clickstream_2023_02_01.parquet\n",
      "loaded from: datamart/bronze/attributes/bronze_attributes_2023_02_01.csv row count: 1031\n"
     ]
    },
    {
     "name": "stderr",
     "output_type": "stream",
     "text": [
      "                                                                                "
     ]
    },
    {
     "name": "stdout",
     "output_type": "stream",
     "text": [
      "saved to: datamart/silver/attributes/silver_attributes_2023_02_01.parquet\n",
      "loaded from: datamart/bronze/financials/bronze_financials_2023_02_01.csv row count: 1031\n"
     ]
    },
    {
     "name": "stderr",
     "output_type": "stream",
     "text": [
      "                                                                                "
     ]
    },
    {
     "name": "stdout",
     "output_type": "stream",
     "text": [
      "saved to: datamart/silver/financials/silver_financials_2023_02_01.parquet\n",
      "loaded from: datamart/bronze/loan/bronze_loan_2023_02_01.csv row count: 1031\n"
     ]
    },
    {
     "name": "stderr",
     "output_type": "stream",
     "text": [
      "                                                                                "
     ]
    },
    {
     "name": "stdout",
     "output_type": "stream",
     "text": [
      "saved to: datamart/silver/loan/silver_loan_daily_2023_02_01.parquet\n",
      "loaded from: datamart/bronze/clickstream/bronze_clickstream_2023_03_01.csv row count: 8974\n"
     ]
    },
    {
     "name": "stderr",
     "output_type": "stream",
     "text": [
      "                                                                                "
     ]
    },
    {
     "name": "stdout",
     "output_type": "stream",
     "text": [
      "saved to: datamart/silver/clickstream/silver_clickstream_2023_03_01.parquet\n",
      "loaded from: datamart/bronze/attributes/bronze_attributes_2023_03_01.csv row count: 1537\n",
      "saved to: datamart/silver/attributes/silver_attributes_2023_03_01.parquet\n",
      "loaded from: datamart/bronze/financials/bronze_financials_2023_03_01.csv row count: 1537\n",
      "saved to: datamart/silver/financials/silver_financials_2023_03_01.parquet\n",
      "loaded from: datamart/bronze/loan/bronze_loan_2023_03_01.csv row count: 1537\n",
      "saved to: datamart/silver/loan/silver_loan_daily_2023_03_01.parquet\n",
      "loaded from: datamart/bronze/clickstream/bronze_clickstream_2023_04_01.csv row count: 8974\n",
      "saved to: datamart/silver/clickstream/silver_clickstream_2023_04_01.parquet\n",
      "loaded from: datamart/bronze/attributes/bronze_attributes_2023_04_01.csv row count: 2047\n",
      "saved to: datamart/silver/attributes/silver_attributes_2023_04_01.parquet\n",
      "loaded from: datamart/bronze/financials/bronze_financials_2023_04_01.csv row count: 2047\n"
     ]
    },
    {
     "name": "stderr",
     "output_type": "stream",
     "text": [
      "                                                                                "
     ]
    },
    {
     "name": "stdout",
     "output_type": "stream",
     "text": [
      "saved to: datamart/silver/financials/silver_financials_2023_04_01.parquet\n",
      "loaded from: datamart/bronze/loan/bronze_loan_2023_04_01.csv row count: 2047\n",
      "saved to: datamart/silver/loan/silver_loan_daily_2023_04_01.parquet\n",
      "loaded from: datamart/bronze/clickstream/bronze_clickstream_2023_05_01.csv row count: 8974\n",
      "saved to: datamart/silver/clickstream/silver_clickstream_2023_05_01.parquet\n",
      "loaded from: datamart/bronze/attributes/bronze_attributes_2023_05_01.csv row count: 2568\n",
      "saved to: datamart/silver/attributes/silver_attributes_2023_05_01.parquet\n",
      "loaded from: datamart/bronze/financials/bronze_financials_2023_05_01.csv row count: 2568\n",
      "saved to: datamart/silver/financials/silver_financials_2023_05_01.parquet\n",
      "loaded from: datamart/bronze/loan/bronze_loan_2023_05_01.csv row count: 2568\n",
      "saved to: datamart/silver/loan/silver_loan_daily_2023_05_01.parquet\n",
      "loaded from: datamart/bronze/clickstream/bronze_clickstream_2023_06_01.csv row count: 8974\n"
     ]
    },
    {
     "name": "stderr",
     "output_type": "stream",
     "text": [
      "                                                                                "
     ]
    },
    {
     "name": "stdout",
     "output_type": "stream",
     "text": [
      "saved to: datamart/silver/clickstream/silver_clickstream_2023_06_01.parquet\n",
      "loaded from: datamart/bronze/attributes/bronze_attributes_2023_06_01.csv row count: 3085\n",
      "saved to: datamart/silver/attributes/silver_attributes_2023_06_01.parquet\n",
      "loaded from: datamart/bronze/financials/bronze_financials_2023_06_01.csv row count: 3085\n"
     ]
    },
    {
     "name": "stderr",
     "output_type": "stream",
     "text": [
      "                                                                                "
     ]
    },
    {
     "name": "stdout",
     "output_type": "stream",
     "text": [
      "saved to: datamart/silver/financials/silver_financials_2023_06_01.parquet\n",
      "loaded from: datamart/bronze/loan/bronze_loan_2023_06_01.csv row count: 3085\n",
      "saved to: datamart/silver/loan/silver_loan_daily_2023_06_01.parquet\n",
      "loaded from: datamart/bronze/clickstream/bronze_clickstream_2023_07_01.csv row count: 8974\n"
     ]
    },
    {
     "name": "stderr",
     "output_type": "stream",
     "text": [
      "                                                                                "
     ]
    },
    {
     "name": "stdout",
     "output_type": "stream",
     "text": [
      "saved to: datamart/silver/clickstream/silver_clickstream_2023_07_01.parquet\n",
      "loaded from: datamart/bronze/attributes/bronze_attributes_2023_07_01.csv row count: 3556\n",
      "saved to: datamart/silver/attributes/silver_attributes_2023_07_01.parquet\n",
      "loaded from: datamart/bronze/financials/bronze_financials_2023_07_01.csv row count: 3556\n"
     ]
    },
    {
     "name": "stderr",
     "output_type": "stream",
     "text": [
      "                                                                                "
     ]
    },
    {
     "name": "stdout",
     "output_type": "stream",
     "text": [
      "saved to: datamart/silver/financials/silver_financials_2023_07_01.parquet\n",
      "loaded from: datamart/bronze/loan/bronze_loan_2023_07_01.csv row count: 3556\n",
      "saved to: datamart/silver/loan/silver_loan_daily_2023_07_01.parquet\n",
      "loaded from: datamart/bronze/clickstream/bronze_clickstream_2023_08_01.csv row count: 8974\n"
     ]
    },
    {
     "name": "stderr",
     "output_type": "stream",
     "text": [
      "                                                                                "
     ]
    },
    {
     "name": "stdout",
     "output_type": "stream",
     "text": [
      "saved to: datamart/silver/clickstream/silver_clickstream_2023_08_01.parquet\n",
      "loaded from: datamart/bronze/attributes/bronze_attributes_2023_08_01.csv row count: 4037\n",
      "saved to: datamart/silver/attributes/silver_attributes_2023_08_01.parquet\n",
      "loaded from: datamart/bronze/financials/bronze_financials_2023_08_01.csv row count: 4037\n"
     ]
    },
    {
     "name": "stderr",
     "output_type": "stream",
     "text": [
      "                                                                                "
     ]
    },
    {
     "name": "stdout",
     "output_type": "stream",
     "text": [
      "saved to: datamart/silver/financials/silver_financials_2023_08_01.parquet\n",
      "loaded from: datamart/bronze/loan/bronze_loan_2023_08_01.csv row count: 4037\n"
     ]
    },
    {
     "name": "stderr",
     "output_type": "stream",
     "text": [
      "                                                                                "
     ]
    },
    {
     "name": "stdout",
     "output_type": "stream",
     "text": [
      "saved to: datamart/silver/loan/silver_loan_daily_2023_08_01.parquet\n",
      "loaded from: datamart/bronze/clickstream/bronze_clickstream_2023_09_01.csv row count: 8974\n"
     ]
    },
    {
     "name": "stderr",
     "output_type": "stream",
     "text": [
      "                                                                                "
     ]
    },
    {
     "name": "stdout",
     "output_type": "stream",
     "text": [
      "saved to: datamart/silver/clickstream/silver_clickstream_2023_09_01.parquet\n",
      "loaded from: datamart/bronze/attributes/bronze_attributes_2023_09_01.csv row count: 4491\n"
     ]
    },
    {
     "name": "stderr",
     "output_type": "stream",
     "text": [
      "                                                                                "
     ]
    },
    {
     "name": "stdout",
     "output_type": "stream",
     "text": [
      "saved to: datamart/silver/attributes/silver_attributes_2023_09_01.parquet\n",
      "loaded from: datamart/bronze/financials/bronze_financials_2023_09_01.csv row count: 4491\n"
     ]
    },
    {
     "name": "stderr",
     "output_type": "stream",
     "text": [
      "                                                                                "
     ]
    },
    {
     "name": "stdout",
     "output_type": "stream",
     "text": [
      "saved to: datamart/silver/financials/silver_financials_2023_09_01.parquet\n",
      "loaded from: datamart/bronze/loan/bronze_loan_2023_09_01.csv row count: 4491\n"
     ]
    },
    {
     "name": "stderr",
     "output_type": "stream",
     "text": [
      "                                                                                "
     ]
    },
    {
     "name": "stdout",
     "output_type": "stream",
     "text": [
      "saved to: datamart/silver/loan/silver_loan_daily_2023_09_01.parquet\n",
      "loaded from: datamart/bronze/clickstream/bronze_clickstream_2023_10_01.csv row count: 8974\n",
      "saved to: datamart/silver/clickstream/silver_clickstream_2023_10_01.parquet\n",
      "loaded from: datamart/bronze/attributes/bronze_attributes_2023_10_01.csv row count: 4978\n",
      "saved to: datamart/silver/attributes/silver_attributes_2023_10_01.parquet\n",
      "loaded from: datamart/bronze/financials/bronze_financials_2023_10_01.csv row count: 4978\n"
     ]
    },
    {
     "name": "stderr",
     "output_type": "stream",
     "text": [
      "                                                                                "
     ]
    },
    {
     "name": "stdout",
     "output_type": "stream",
     "text": [
      "saved to: datamart/silver/financials/silver_financials_2023_10_01.parquet\n",
      "loaded from: datamart/bronze/loan/bronze_loan_2023_10_01.csv row count: 4978\n",
      "saved to: datamart/silver/loan/silver_loan_daily_2023_10_01.parquet\n",
      "loaded from: datamart/bronze/clickstream/bronze_clickstream_2023_11_01.csv row count: 8974\n"
     ]
    },
    {
     "name": "stderr",
     "output_type": "stream",
     "text": [
      "                                                                                "
     ]
    },
    {
     "name": "stdout",
     "output_type": "stream",
     "text": [
      "saved to: datamart/silver/clickstream/silver_clickstream_2023_11_01.parquet\n",
      "loaded from: datamart/bronze/attributes/bronze_attributes_2023_11_01.csv row count: 5469\n",
      "saved to: datamart/silver/attributes/silver_attributes_2023_11_01.parquet\n",
      "loaded from: datamart/bronze/financials/bronze_financials_2023_11_01.csv row count: 5469\n"
     ]
    },
    {
     "name": "stderr",
     "output_type": "stream",
     "text": [
      "                                                                                "
     ]
    },
    {
     "name": "stdout",
     "output_type": "stream",
     "text": [
      "saved to: datamart/silver/financials/silver_financials_2023_11_01.parquet\n",
      "loaded from: datamart/bronze/loan/bronze_loan_2023_11_01.csv row count: 5469\n"
     ]
    },
    {
     "name": "stderr",
     "output_type": "stream",
     "text": [
      "                                                                                "
     ]
    },
    {
     "name": "stdout",
     "output_type": "stream",
     "text": [
      "saved to: datamart/silver/loan/silver_loan_daily_2023_11_01.parquet\n",
      "loaded from: datamart/bronze/clickstream/bronze_clickstream_2023_12_01.csv row count: 8974\n"
     ]
    },
    {
     "name": "stderr",
     "output_type": "stream",
     "text": [
      "                                                                                "
     ]
    },
    {
     "name": "stdout",
     "output_type": "stream",
     "text": [
      "saved to: datamart/silver/clickstream/silver_clickstream_2023_12_01.parquet\n",
      "loaded from: datamart/bronze/attributes/bronze_attributes_2023_12_01.csv row count: 5958\n"
     ]
    },
    {
     "name": "stderr",
     "output_type": "stream",
     "text": [
      "                                                                                "
     ]
    },
    {
     "name": "stdout",
     "output_type": "stream",
     "text": [
      "saved to: datamart/silver/attributes/silver_attributes_2023_12_01.parquet\n",
      "loaded from: datamart/bronze/financials/bronze_financials_2023_12_01.csv row count: 5958\n"
     ]
    },
    {
     "name": "stderr",
     "output_type": "stream",
     "text": [
      "                                                                                "
     ]
    },
    {
     "name": "stdout",
     "output_type": "stream",
     "text": [
      "saved to: datamart/silver/financials/silver_financials_2023_12_01.parquet\n",
      "loaded from: datamart/bronze/loan/bronze_loan_2023_12_01.csv row count: 5428\n"
     ]
    },
    {
     "name": "stderr",
     "output_type": "stream",
     "text": [
      "                                                                                "
     ]
    },
    {
     "name": "stdout",
     "output_type": "stream",
     "text": [
      "saved to: datamart/silver/loan/silver_loan_daily_2023_12_01.parquet\n",
      "loaded from: datamart/bronze/clickstream/bronze_clickstream_2024_01_01.csv row count: 8974\n"
     ]
    },
    {
     "name": "stderr",
     "output_type": "stream",
     "text": [
      "                                                                                "
     ]
    },
    {
     "name": "stdout",
     "output_type": "stream",
     "text": [
      "saved to: datamart/silver/clickstream/silver_clickstream_2024_01_01.parquet\n",
      "loaded from: datamart/bronze/attributes/bronze_attributes_2024_01_01.csv row count: 6443\n"
     ]
    },
    {
     "name": "stderr",
     "output_type": "stream",
     "text": [
      "                                                                                "
     ]
    },
    {
     "name": "stdout",
     "output_type": "stream",
     "text": [
      "saved to: datamart/silver/attributes/silver_attributes_2024_01_01.parquet\n",
      "loaded from: datamart/bronze/financials/bronze_financials_2024_01_01.csv row count: 6443\n"
     ]
    },
    {
     "name": "stderr",
     "output_type": "stream",
     "text": [
      "                                                                                "
     ]
    },
    {
     "name": "stdout",
     "output_type": "stream",
     "text": [
      "saved to: datamart/silver/financials/silver_financials_2024_01_01.parquet\n",
      "loaded from: datamart/bronze/loan/bronze_loan_2024_01_01.csv row count: 5412\n"
     ]
    },
    {
     "name": "stderr",
     "output_type": "stream",
     "text": [
      "                                                                                "
     ]
    },
    {
     "name": "stdout",
     "output_type": "stream",
     "text": [
      "saved to: datamart/silver/loan/silver_loan_daily_2024_01_01.parquet\n",
      "loaded from: datamart/bronze/clickstream/bronze_clickstream_2024_02_01.csv row count: 8974\n"
     ]
    },
    {
     "name": "stderr",
     "output_type": "stream",
     "text": [
      "                                                                                "
     ]
    },
    {
     "name": "stdout",
     "output_type": "stream",
     "text": [
      "saved to: datamart/silver/clickstream/silver_clickstream_2024_02_01.parquet\n",
      "loaded from: datamart/bronze/attributes/bronze_attributes_2024_02_01.csv row count: 6961\n"
     ]
    },
    {
     "name": "stderr",
     "output_type": "stream",
     "text": [
      "                                                                                "
     ]
    },
    {
     "name": "stdout",
     "output_type": "stream",
     "text": [
      "saved to: datamart/silver/attributes/silver_attributes_2024_02_01.parquet\n",
      "loaded from: datamart/bronze/financials/bronze_financials_2024_02_01.csv row count: 6961\n"
     ]
    },
    {
     "name": "stderr",
     "output_type": "stream",
     "text": [
      "                                                                                "
     ]
    },
    {
     "name": "stdout",
     "output_type": "stream",
     "text": [
      "saved to: datamart/silver/financials/silver_financials_2024_02_01.parquet\n",
      "loaded from: datamart/bronze/loan/bronze_loan_2024_02_01.csv row count: 5424\n"
     ]
    },
    {
     "name": "stderr",
     "output_type": "stream",
     "text": [
      "                                                                                "
     ]
    },
    {
     "name": "stdout",
     "output_type": "stream",
     "text": [
      "saved to: datamart/silver/loan/silver_loan_daily_2024_02_01.parquet\n",
      "loaded from: datamart/bronze/clickstream/bronze_clickstream_2024_03_01.csv row count: 8974\n"
     ]
    },
    {
     "name": "stderr",
     "output_type": "stream",
     "text": [
      "                                                                                "
     ]
    },
    {
     "name": "stdout",
     "output_type": "stream",
     "text": [
      "saved to: datamart/silver/clickstream/silver_clickstream_2024_03_01.parquet\n",
      "loaded from: datamart/bronze/attributes/bronze_attributes_2024_03_01.csv row count: 7472\n"
     ]
    },
    {
     "name": "stderr",
     "output_type": "stream",
     "text": [
      "                                                                                "
     ]
    },
    {
     "name": "stdout",
     "output_type": "stream",
     "text": [
      "saved to: datamart/silver/attributes/silver_attributes_2024_03_01.parquet\n",
      "loaded from: datamart/bronze/financials/bronze_financials_2024_03_01.csv row count: 7472\n"
     ]
    },
    {
     "name": "stderr",
     "output_type": "stream",
     "text": [
      "                                                                                "
     ]
    },
    {
     "name": "stdout",
     "output_type": "stream",
     "text": [
      "saved to: datamart/silver/financials/silver_financials_2024_03_01.parquet\n",
      "loaded from: datamart/bronze/loan/bronze_loan_2024_03_01.csv row count: 5425\n"
     ]
    },
    {
     "name": "stderr",
     "output_type": "stream",
     "text": [
      "                                                                                "
     ]
    },
    {
     "name": "stdout",
     "output_type": "stream",
     "text": [
      "saved to: datamart/silver/loan/silver_loan_daily_2024_03_01.parquet\n",
      "loaded from: datamart/bronze/clickstream/bronze_clickstream_2024_04_01.csv row count: 8974\n"
     ]
    },
    {
     "name": "stderr",
     "output_type": "stream",
     "text": [
      "                                                                                "
     ]
    },
    {
     "name": "stdout",
     "output_type": "stream",
     "text": [
      "saved to: datamart/silver/clickstream/silver_clickstream_2024_04_01.parquet\n",
      "loaded from: datamart/bronze/attributes/bronze_attributes_2024_04_01.csv row count: 7985\n"
     ]
    },
    {
     "name": "stderr",
     "output_type": "stream",
     "text": [
      "                                                                                "
     ]
    },
    {
     "name": "stdout",
     "output_type": "stream",
     "text": [
      "saved to: datamart/silver/attributes/silver_attributes_2024_04_01.parquet\n",
      "loaded from: datamart/bronze/financials/bronze_financials_2024_04_01.csv row count: 7985\n"
     ]
    },
    {
     "name": "stderr",
     "output_type": "stream",
     "text": [
      "                                                                                "
     ]
    },
    {
     "name": "stdout",
     "output_type": "stream",
     "text": [
      "saved to: datamart/silver/financials/silver_financials_2024_04_01.parquet\n",
      "loaded from: datamart/bronze/loan/bronze_loan_2024_04_01.csv row count: 5417\n"
     ]
    },
    {
     "name": "stderr",
     "output_type": "stream",
     "text": [
      "                                                                                "
     ]
    },
    {
     "name": "stdout",
     "output_type": "stream",
     "text": [
      "saved to: datamart/silver/loan/silver_loan_daily_2024_04_01.parquet\n",
      "loaded from: datamart/bronze/clickstream/bronze_clickstream_2024_05_01.csv row count: 8974\n"
     ]
    },
    {
     "name": "stderr",
     "output_type": "stream",
     "text": [
      "                                                                                "
     ]
    },
    {
     "name": "stdout",
     "output_type": "stream",
     "text": [
      "saved to: datamart/silver/clickstream/silver_clickstream_2024_05_01.parquet\n",
      "loaded from: datamart/bronze/attributes/bronze_attributes_2024_05_01.csv row count: 8476\n"
     ]
    },
    {
     "name": "stderr",
     "output_type": "stream",
     "text": [
      "                                                                                "
     ]
    },
    {
     "name": "stdout",
     "output_type": "stream",
     "text": [
      "saved to: datamart/silver/attributes/silver_attributes_2024_05_01.parquet\n",
      "loaded from: datamart/bronze/financials/bronze_financials_2024_05_01.csv row count: 8476\n"
     ]
    },
    {
     "name": "stderr",
     "output_type": "stream",
     "text": [
      "                                                                                "
     ]
    },
    {
     "name": "stdout",
     "output_type": "stream",
     "text": [
      "saved to: datamart/silver/financials/silver_financials_2024_05_01.parquet\n",
      "loaded from: datamart/bronze/loan/bronze_loan_2024_05_01.csv row count: 5391\n"
     ]
    },
    {
     "name": "stderr",
     "output_type": "stream",
     "text": [
      "                                                                                "
     ]
    },
    {
     "name": "stdout",
     "output_type": "stream",
     "text": [
      "saved to: datamart/silver/loan/silver_loan_daily_2024_05_01.parquet\n",
      "loaded from: datamart/bronze/clickstream/bronze_clickstream_2024_06_01.csv row count: 8974\n"
     ]
    },
    {
     "name": "stderr",
     "output_type": "stream",
     "text": [
      "                                                                                "
     ]
    },
    {
     "name": "stdout",
     "output_type": "stream",
     "text": [
      "saved to: datamart/silver/clickstream/silver_clickstream_2024_06_01.parquet\n",
      "loaded from: datamart/bronze/attributes/bronze_attributes_2024_06_01.csv row count: 8974\n"
     ]
    },
    {
     "name": "stderr",
     "output_type": "stream",
     "text": [
      "                                                                                "
     ]
    },
    {
     "name": "stdout",
     "output_type": "stream",
     "text": [
      "saved to: datamart/silver/attributes/silver_attributes_2024_06_01.parquet\n",
      "loaded from: datamart/bronze/financials/bronze_financials_2024_06_01.csv row count: 8974\n"
     ]
    },
    {
     "name": "stderr",
     "output_type": "stream",
     "text": [
      "                                                                                "
     ]
    },
    {
     "name": "stdout",
     "output_type": "stream",
     "text": [
      "saved to: datamart/silver/financials/silver_financials_2024_06_01.parquet\n",
      "loaded from: datamart/bronze/loan/bronze_loan_2024_06_01.csv row count: 5418\n"
     ]
    },
    {
     "name": "stderr",
     "output_type": "stream",
     "text": [
      "                                                                                "
     ]
    },
    {
     "name": "stdout",
     "output_type": "stream",
     "text": [
      "saved to: datamart/silver/loan/silver_loan_daily_2024_06_01.parquet\n",
      "loaded from: datamart/bronze/clickstream/bronze_clickstream_2024_07_01.csv row count: 8974\n"
     ]
    },
    {
     "name": "stderr",
     "output_type": "stream",
     "text": [
      "                                                                                "
     ]
    },
    {
     "name": "stdout",
     "output_type": "stream",
     "text": [
      "saved to: datamart/silver/clickstream/silver_clickstream_2024_07_01.parquet\n",
      "loaded from: datamart/bronze/attributes/bronze_attributes_2024_07_01.csv row count: 9479\n"
     ]
    },
    {
     "name": "stderr",
     "output_type": "stream",
     "text": [
      "                                                                                "
     ]
    },
    {
     "name": "stdout",
     "output_type": "stream",
     "text": [
      "saved to: datamart/silver/attributes/silver_attributes_2024_07_01.parquet\n",
      "loaded from: datamart/bronze/financials/bronze_financials_2024_07_01.csv row count: 9479\n"
     ]
    },
    {
     "name": "stderr",
     "output_type": "stream",
     "text": [
      "                                                                                "
     ]
    },
    {
     "name": "stdout",
     "output_type": "stream",
     "text": [
      "saved to: datamart/silver/financials/silver_financials_2024_07_01.parquet\n",
      "loaded from: datamart/bronze/loan/bronze_loan_2024_07_01.csv row count: 5442\n"
     ]
    },
    {
     "name": "stderr",
     "output_type": "stream",
     "text": [
      "                                                                                "
     ]
    },
    {
     "name": "stdout",
     "output_type": "stream",
     "text": [
      "saved to: datamart/silver/loan/silver_loan_daily_2024_07_01.parquet\n",
      "loaded from: datamart/bronze/clickstream/bronze_clickstream_2024_08_01.csv row count: 8974\n"
     ]
    },
    {
     "name": "stderr",
     "output_type": "stream",
     "text": [
      "                                                                                "
     ]
    },
    {
     "name": "stdout",
     "output_type": "stream",
     "text": [
      "saved to: datamart/silver/clickstream/silver_clickstream_2024_08_01.parquet\n",
      "loaded from: datamart/bronze/attributes/bronze_attributes_2024_08_01.csv row count: 10022\n"
     ]
    },
    {
     "name": "stderr",
     "output_type": "stream",
     "text": [
      "                                                                                "
     ]
    },
    {
     "name": "stdout",
     "output_type": "stream",
     "text": [
      "saved to: datamart/silver/attributes/silver_attributes_2024_08_01.parquet\n",
      "loaded from: datamart/bronze/financials/bronze_financials_2024_08_01.csv row count: 10022\n"
     ]
    },
    {
     "name": "stderr",
     "output_type": "stream",
     "text": [
      "                                                                                "
     ]
    },
    {
     "name": "stdout",
     "output_type": "stream",
     "text": [
      "saved to: datamart/silver/financials/silver_financials_2024_08_01.parquet\n",
      "loaded from: datamart/bronze/loan/bronze_loan_2024_08_01.csv row count: 5531\n"
     ]
    },
    {
     "name": "stderr",
     "output_type": "stream",
     "text": [
      "                                                                                "
     ]
    },
    {
     "name": "stdout",
     "output_type": "stream",
     "text": [
      "saved to: datamart/silver/loan/silver_loan_daily_2024_08_01.parquet\n",
      "loaded from: datamart/bronze/clickstream/bronze_clickstream_2024_09_01.csv row count: 8974\n"
     ]
    },
    {
     "name": "stderr",
     "output_type": "stream",
     "text": [
      "                                                                                "
     ]
    },
    {
     "name": "stdout",
     "output_type": "stream",
     "text": [
      "saved to: datamart/silver/clickstream/silver_clickstream_2024_09_01.parquet\n",
      "loaded from: datamart/bronze/attributes/bronze_attributes_2024_09_01.csv row count: 10515\n"
     ]
    },
    {
     "name": "stderr",
     "output_type": "stream",
     "text": [
      "                                                                                "
     ]
    },
    {
     "name": "stdout",
     "output_type": "stream",
     "text": [
      "saved to: datamart/silver/attributes/silver_attributes_2024_09_01.parquet\n",
      "loaded from: datamart/bronze/financials/bronze_financials_2024_09_01.csv row count: 10515\n"
     ]
    },
    {
     "name": "stderr",
     "output_type": "stream",
     "text": [
      "                                                                                "
     ]
    },
    {
     "name": "stdout",
     "output_type": "stream",
     "text": [
      "saved to: datamart/silver/financials/silver_financials_2024_09_01.parquet\n",
      "loaded from: datamart/bronze/loan/bronze_loan_2024_09_01.csv row count: 5537\n"
     ]
    },
    {
     "name": "stderr",
     "output_type": "stream",
     "text": [
      "                                                                                "
     ]
    },
    {
     "name": "stdout",
     "output_type": "stream",
     "text": [
      "saved to: datamart/silver/loan/silver_loan_daily_2024_09_01.parquet\n",
      "loaded from: datamart/bronze/clickstream/bronze_clickstream_2024_10_01.csv row count: 8974\n"
     ]
    },
    {
     "name": "stderr",
     "output_type": "stream",
     "text": [
      "                                                                                "
     ]
    },
    {
     "name": "stdout",
     "output_type": "stream",
     "text": [
      "saved to: datamart/silver/clickstream/silver_clickstream_2024_10_01.parquet\n",
      "loaded from: datamart/bronze/attributes/bronze_attributes_2024_10_01.csv row count: 10971\n"
     ]
    },
    {
     "name": "stderr",
     "output_type": "stream",
     "text": [
      "                                                                                "
     ]
    },
    {
     "name": "stdout",
     "output_type": "stream",
     "text": [
      "saved to: datamart/silver/attributes/silver_attributes_2024_10_01.parquet\n",
      "loaded from: datamart/bronze/financials/bronze_financials_2024_10_01.csv row count: 10971\n"
     ]
    },
    {
     "name": "stderr",
     "output_type": "stream",
     "text": [
      "                                                                                "
     ]
    },
    {
     "name": "stdout",
     "output_type": "stream",
     "text": [
      "saved to: datamart/silver/financials/silver_financials_2024_10_01.parquet\n",
      "loaded from: datamart/bronze/loan/bronze_loan_2024_10_01.csv row count: 5502\n"
     ]
    },
    {
     "name": "stderr",
     "output_type": "stream",
     "text": [
      "                                                                                "
     ]
    },
    {
     "name": "stdout",
     "output_type": "stream",
     "text": [
      "saved to: datamart/silver/loan/silver_loan_daily_2024_10_01.parquet\n",
      "loaded from: datamart/bronze/clickstream/bronze_clickstream_2024_11_01.csv row count: 8974\n"
     ]
    },
    {
     "name": "stderr",
     "output_type": "stream",
     "text": [
      "                                                                                "
     ]
    },
    {
     "name": "stdout",
     "output_type": "stream",
     "text": [
      "saved to: datamart/silver/clickstream/silver_clickstream_2024_11_01.parquet\n",
      "loaded from: datamart/bronze/attributes/bronze_attributes_2024_11_01.csv row count: 11459\n"
     ]
    },
    {
     "name": "stderr",
     "output_type": "stream",
     "text": [
      "                                                                                "
     ]
    },
    {
     "name": "stdout",
     "output_type": "stream",
     "text": [
      "saved to: datamart/silver/attributes/silver_attributes_2024_11_01.parquet\n",
      "loaded from: datamart/bronze/financials/bronze_financials_2024_11_01.csv row count: 11459\n"
     ]
    },
    {
     "name": "stderr",
     "output_type": "stream",
     "text": [
      "                                                                                "
     ]
    },
    {
     "name": "stdout",
     "output_type": "stream",
     "text": [
      "saved to: datamart/silver/financials/silver_financials_2024_11_01.parquet\n",
      "loaded from: datamart/bronze/loan/bronze_loan_2024_11_01.csv row count: 5501\n"
     ]
    },
    {
     "name": "stderr",
     "output_type": "stream",
     "text": [
      "                                                                                "
     ]
    },
    {
     "name": "stdout",
     "output_type": "stream",
     "text": [
      "saved to: datamart/silver/loan/silver_loan_daily_2024_11_01.parquet\n",
      "loaded from: datamart/bronze/clickstream/bronze_clickstream_2024_12_01.csv row count: 8974\n"
     ]
    },
    {
     "name": "stderr",
     "output_type": "stream",
     "text": [
      "                                                                                "
     ]
    },
    {
     "name": "stdout",
     "output_type": "stream",
     "text": [
      "saved to: datamart/silver/clickstream/silver_clickstream_2024_12_01.parquet\n",
      "loaded from: datamart/bronze/attributes/bronze_attributes_2024_12_01.csv row count: 11974\n"
     ]
    },
    {
     "name": "stderr",
     "output_type": "stream",
     "text": [
      "                                                                                "
     ]
    },
    {
     "name": "stdout",
     "output_type": "stream",
     "text": [
      "saved to: datamart/silver/attributes/silver_attributes_2024_12_01.parquet\n",
      "loaded from: datamart/bronze/financials/bronze_financials_2024_12_01.csv row count: 11974\n"
     ]
    },
    {
     "name": "stderr",
     "output_type": "stream",
     "text": [
      "                                                                                "
     ]
    },
    {
     "name": "stdout",
     "output_type": "stream",
     "text": [
      "saved to: datamart/silver/financials/silver_financials_2024_12_01.parquet\n",
      "loaded from: datamart/bronze/loan/bronze_loan_2024_12_01.csv row count: 5531\n"
     ]
    },
    {
     "name": "stderr",
     "output_type": "stream",
     "text": [
      "                                                                                "
     ]
    },
    {
     "name": "stdout",
     "output_type": "stream",
     "text": [
      "saved to: datamart/silver/loan/silver_loan_daily_2024_12_01.parquet\n",
      "\n",
      "Processing Gold Feature Store Tables:\n",
      "Loaded clickstream: 8974 rows\n",
      "Loaded attributes: 530 rows\n",
      "Loaded financials: 530 rows\n",
      "Loaded loan: 530 rows\n",
      "Loan data filtered by mob=6: 0 rows\n",
      "Final feature store row count: 8974\n",
      "Records with loan_id (mob=6): 0\n"
     ]
    },
    {
     "name": "stderr",
     "output_type": "stream",
     "text": [
      "                                                                                "
     ]
    },
    {
     "name": "stdout",
     "output_type": "stream",
     "text": [
      "Saved to: datamart/gold/feature_store/gold_feature_store_2023_01_01.parquet\n",
      "Loaded clickstream: 8974 rows\n",
      "Loaded attributes: 1031 rows\n",
      "Loaded financials: 1031 rows\n",
      "Loaded loan: 1031 rows\n",
      "Loan data filtered by mob=6: 0 rows\n",
      "Final feature store row count: 8974\n",
      "Records with loan_id (mob=6): 0\n"
     ]
    },
    {
     "name": "stderr",
     "output_type": "stream",
     "text": [
      "                                                                                "
     ]
    },
    {
     "name": "stdout",
     "output_type": "stream",
     "text": [
      "Saved to: datamart/gold/feature_store/gold_feature_store_2023_02_01.parquet\n",
      "Loaded clickstream: 8974 rows\n",
      "Loaded attributes: 1537 rows\n",
      "Loaded financials: 1537 rows\n",
      "Loaded loan: 1537 rows\n",
      "Loan data filtered by mob=6: 0 rows\n",
      "Final feature store row count: 8974\n",
      "Records with loan_id (mob=6): 0\n"
     ]
    },
    {
     "name": "stderr",
     "output_type": "stream",
     "text": [
      "                                                                                "
     ]
    },
    {
     "name": "stdout",
     "output_type": "stream",
     "text": [
      "Saved to: datamart/gold/feature_store/gold_feature_store_2023_03_01.parquet\n",
      "Loaded clickstream: 8974 rows\n",
      "Loaded attributes: 2047 rows\n",
      "Loaded financials: 2047 rows\n",
      "Loaded loan: 2047 rows\n",
      "Loan data filtered by mob=6: 0 rows\n",
      "Final feature store row count: 8974\n",
      "Records with loan_id (mob=6): 0\n"
     ]
    },
    {
     "name": "stderr",
     "output_type": "stream",
     "text": [
      "                                                                                "
     ]
    },
    {
     "name": "stdout",
     "output_type": "stream",
     "text": [
      "Saved to: datamart/gold/feature_store/gold_feature_store_2023_04_01.parquet\n",
      "Loaded clickstream: 8974 rows\n",
      "Loaded attributes: 2568 rows\n",
      "Loaded financials: 2568 rows\n",
      "Loaded loan: 2568 rows\n",
      "Loan data filtered by mob=6: 0 rows\n",
      "Final feature store row count: 8974\n",
      "Records with loan_id (mob=6): 0\n"
     ]
    },
    {
     "name": "stderr",
     "output_type": "stream",
     "text": [
      "                                                                                "
     ]
    },
    {
     "name": "stdout",
     "output_type": "stream",
     "text": [
      "Saved to: datamart/gold/feature_store/gold_feature_store_2023_05_01.parquet\n",
      "Loaded clickstream: 8974 rows\n",
      "Loaded attributes: 3085 rows\n",
      "Loaded financials: 3085 rows\n",
      "Loaded loan: 3085 rows\n",
      "Loan data filtered by mob=6: 0 rows\n",
      "Final feature store row count: 8974\n",
      "Records with loan_id (mob=6): 0\n"
     ]
    },
    {
     "name": "stderr",
     "output_type": "stream",
     "text": [
      "                                                                                "
     ]
    },
    {
     "name": "stdout",
     "output_type": "stream",
     "text": [
      "Saved to: datamart/gold/feature_store/gold_feature_store_2023_06_01.parquet\n",
      "Loaded clickstream: 8974 rows\n",
      "Loaded attributes: 3556 rows\n",
      "Loaded financials: 3556 rows\n",
      "Loaded loan: 3556 rows\n",
      "Loan data filtered by mob=6: 530 rows\n",
      "Final feature store row count: 8974\n",
      "Records with loan_id (mob=6): 530\n"
     ]
    },
    {
     "name": "stderr",
     "output_type": "stream",
     "text": [
      "                                                                                "
     ]
    },
    {
     "name": "stdout",
     "output_type": "stream",
     "text": [
      "Saved to: datamart/gold/feature_store/gold_feature_store_2023_07_01.parquet\n",
      "Loaded clickstream: 8974 rows\n",
      "Loaded attributes: 4037 rows\n",
      "Loaded financials: 4037 rows\n",
      "Loaded loan: 4037 rows\n",
      "Loan data filtered by mob=6: 501 rows\n",
      "Final feature store row count: 8974\n",
      "Records with loan_id (mob=6): 501\n"
     ]
    },
    {
     "name": "stderr",
     "output_type": "stream",
     "text": [
      "                                                                                "
     ]
    },
    {
     "name": "stdout",
     "output_type": "stream",
     "text": [
      "Saved to: datamart/gold/feature_store/gold_feature_store_2023_08_01.parquet\n",
      "Loaded clickstream: 8974 rows\n",
      "Loaded attributes: 4491 rows\n",
      "Loaded financials: 4491 rows\n",
      "Loaded loan: 4491 rows\n",
      "Loan data filtered by mob=6: 506 rows\n",
      "Final feature store row count: 8974\n",
      "Records with loan_id (mob=6): 506\n"
     ]
    },
    {
     "name": "stderr",
     "output_type": "stream",
     "text": [
      "                                                                                "
     ]
    },
    {
     "name": "stdout",
     "output_type": "stream",
     "text": [
      "Saved to: datamart/gold/feature_store/gold_feature_store_2023_09_01.parquet\n",
      "Loaded clickstream: 8974 rows\n",
      "Loaded attributes: 4978 rows\n",
      "Loaded financials: 4978 rows\n",
      "Loaded loan: 4978 rows\n",
      "Loan data filtered by mob=6: 510 rows\n",
      "Final feature store row count: 8974\n",
      "Records with loan_id (mob=6): 510\n"
     ]
    },
    {
     "name": "stderr",
     "output_type": "stream",
     "text": [
      "                                                                                "
     ]
    },
    {
     "name": "stdout",
     "output_type": "stream",
     "text": [
      "Saved to: datamart/gold/feature_store/gold_feature_store_2023_10_01.parquet\n",
      "Loaded clickstream: 8974 rows\n",
      "Loaded attributes: 5469 rows\n",
      "Loaded financials: 5469 rows\n",
      "Loaded loan: 5469 rows\n",
      "Loan data filtered by mob=6: 521 rows\n",
      "Final feature store row count: 8974\n",
      "Records with loan_id (mob=6): 521\n"
     ]
    },
    {
     "name": "stderr",
     "output_type": "stream",
     "text": [
      "                                                                                "
     ]
    },
    {
     "name": "stdout",
     "output_type": "stream",
     "text": [
      "Saved to: datamart/gold/feature_store/gold_feature_store_2023_11_01.parquet\n",
      "Loaded clickstream: 8974 rows\n",
      "Loaded attributes: 5958 rows\n",
      "Loaded financials: 5958 rows\n",
      "Loaded loan: 5428 rows\n",
      "Loan data filtered by mob=6: 517 rows\n",
      "Final feature store row count: 8974\n",
      "Records with loan_id (mob=6): 517\n"
     ]
    },
    {
     "name": "stderr",
     "output_type": "stream",
     "text": [
      "                                                                                "
     ]
    },
    {
     "name": "stdout",
     "output_type": "stream",
     "text": [
      "Saved to: datamart/gold/feature_store/gold_feature_store_2023_12_01.parquet\n",
      "Loaded clickstream: 8974 rows\n",
      "Loaded attributes: 6443 rows\n",
      "Loaded financials: 6443 rows\n",
      "Loaded loan: 5412 rows\n",
      "Loan data filtered by mob=6: 471 rows\n",
      "Final feature store row count: 8974\n",
      "Records with loan_id (mob=6): 471\n"
     ]
    },
    {
     "name": "stderr",
     "output_type": "stream",
     "text": [
      "                                                                                "
     ]
    },
    {
     "name": "stdout",
     "output_type": "stream",
     "text": [
      "Saved to: datamart/gold/feature_store/gold_feature_store_2024_01_01.parquet\n",
      "Loaded clickstream: 8974 rows\n",
      "Loaded attributes: 6961 rows\n",
      "Loaded financials: 6961 rows\n",
      "Loaded loan: 5424 rows\n",
      "Loan data filtered by mob=6: 481 rows\n",
      "Final feature store row count: 8974\n",
      "Records with loan_id (mob=6): 481\n"
     ]
    },
    {
     "name": "stderr",
     "output_type": "stream",
     "text": [
      "                                                                                "
     ]
    },
    {
     "name": "stdout",
     "output_type": "stream",
     "text": [
      "Saved to: datamart/gold/feature_store/gold_feature_store_2024_02_01.parquet\n",
      "Loaded clickstream: 8974 rows\n",
      "Loaded attributes: 7472 rows\n",
      "Loaded financials: 7472 rows\n",
      "Loaded loan: 5425 rows\n",
      "Loan data filtered by mob=6: 454 rows\n",
      "Final feature store row count: 8974\n",
      "Records with loan_id (mob=6): 454\n"
     ]
    },
    {
     "name": "stderr",
     "output_type": "stream",
     "text": [
      "                                                                                "
     ]
    },
    {
     "name": "stdout",
     "output_type": "stream",
     "text": [
      "Saved to: datamart/gold/feature_store/gold_feature_store_2024_03_01.parquet\n",
      "Loaded clickstream: 8974 rows\n",
      "Loaded attributes: 7985 rows\n",
      "Loaded financials: 7985 rows\n",
      "Loaded loan: 5417 rows\n",
      "Loan data filtered by mob=6: 487 rows\n",
      "Final feature store row count: 8974\n",
      "Records with loan_id (mob=6): 487\n"
     ]
    },
    {
     "name": "stderr",
     "output_type": "stream",
     "text": [
      "                                                                                "
     ]
    },
    {
     "name": "stdout",
     "output_type": "stream",
     "text": [
      "Saved to: datamart/gold/feature_store/gold_feature_store_2024_04_01.parquet\n",
      "Loaded clickstream: 8974 rows\n",
      "Loaded attributes: 8476 rows\n",
      "Loaded financials: 8476 rows\n",
      "Loaded loan: 5391 rows\n",
      "Loan data filtered by mob=6: 491 rows\n",
      "Final feature store row count: 8974\n",
      "Records with loan_id (mob=6): 491\n"
     ]
    },
    {
     "name": "stderr",
     "output_type": "stream",
     "text": [
      "                                                                                "
     ]
    },
    {
     "name": "stdout",
     "output_type": "stream",
     "text": [
      "Saved to: datamart/gold/feature_store/gold_feature_store_2024_05_01.parquet\n",
      "Loaded clickstream: 8974 rows\n",
      "Loaded attributes: 8974 rows\n",
      "Loaded financials: 8974 rows\n",
      "Loaded loan: 5418 rows\n",
      "Loan data filtered by mob=6: 489 rows\n",
      "Final feature store row count: 8974\n",
      "Records with loan_id (mob=6): 489\n"
     ]
    },
    {
     "name": "stderr",
     "output_type": "stream",
     "text": [
      "                                                                                "
     ]
    },
    {
     "name": "stdout",
     "output_type": "stream",
     "text": [
      "Saved to: datamart/gold/feature_store/gold_feature_store_2024_06_01.parquet\n",
      "Loaded clickstream: 8974 rows\n",
      "Loaded attributes: 9479 rows\n",
      "Loaded financials: 9479 rows\n",
      "Loaded loan: 5442 rows\n",
      "Loan data filtered by mob=6: 485 rows\n",
      "Final feature store row count: 8974\n",
      "Records with loan_id (mob=6): 485\n"
     ]
    },
    {
     "name": "stderr",
     "output_type": "stream",
     "text": [
      "                                                                                "
     ]
    },
    {
     "name": "stdout",
     "output_type": "stream",
     "text": [
      "Saved to: datamart/gold/feature_store/gold_feature_store_2024_07_01.parquet\n",
      "Loaded clickstream: 8974 rows\n",
      "Loaded attributes: 10022 rows\n",
      "Loaded financials: 10022 rows\n",
      "Loaded loan: 5531 rows\n",
      "Loan data filtered by mob=6: 518 rows\n",
      "Final feature store row count: 8974\n",
      "Records with loan_id (mob=6): 518\n"
     ]
    },
    {
     "name": "stderr",
     "output_type": "stream",
     "text": [
      "                                                                                "
     ]
    },
    {
     "name": "stdout",
     "output_type": "stream",
     "text": [
      "Saved to: datamart/gold/feature_store/gold_feature_store_2024_08_01.parquet\n",
      "Loaded clickstream: 8974 rows\n",
      "Loaded attributes: 10515 rows\n",
      "Loaded financials: 10515 rows\n",
      "Loaded loan: 5537 rows\n",
      "Loan data filtered by mob=6: 511 rows\n",
      "Final feature store row count: 8974\n",
      "Records with loan_id (mob=6): 511\n"
     ]
    },
    {
     "name": "stderr",
     "output_type": "stream",
     "text": [
      "                                                                                "
     ]
    },
    {
     "name": "stdout",
     "output_type": "stream",
     "text": [
      "Saved to: datamart/gold/feature_store/gold_feature_store_2024_09_01.parquet\n",
      "Loaded clickstream: 8974 rows\n",
      "Loaded attributes: 10971 rows\n",
      "Loaded financials: 10971 rows\n",
      "Loaded loan: 5502 rows\n",
      "Loan data filtered by mob=6: 513 rows\n",
      "Final feature store row count: 8974\n",
      "Records with loan_id (mob=6): 513\n"
     ]
    },
    {
     "name": "stderr",
     "output_type": "stream",
     "text": [
      "                                                                                "
     ]
    },
    {
     "name": "stdout",
     "output_type": "stream",
     "text": [
      "Saved to: datamart/gold/feature_store/gold_feature_store_2024_10_01.parquet\n",
      "Loaded clickstream: 8974 rows\n",
      "Loaded attributes: 11459 rows\n",
      "Loaded financials: 11459 rows\n",
      "Loaded loan: 5501 rows\n",
      "Loan data filtered by mob=6: 491 rows\n",
      "Final feature store row count: 8974\n",
      "Records with loan_id (mob=6): 491\n"
     ]
    },
    {
     "name": "stderr",
     "output_type": "stream",
     "text": [
      "                                                                                "
     ]
    },
    {
     "name": "stdout",
     "output_type": "stream",
     "text": [
      "Saved to: datamart/gold/feature_store/gold_feature_store_2024_11_01.parquet\n",
      "Loaded clickstream: 8974 rows\n",
      "Loaded attributes: 11974 rows\n",
      "Loaded financials: 11974 rows\n",
      "Loaded loan: 5531 rows\n",
      "Loan data filtered by mob=6: 498 rows\n",
      "Final feature store row count: 8974\n",
      "Records with loan_id (mob=6): 498\n"
     ]
    },
    {
     "name": "stderr",
     "output_type": "stream",
     "text": [
      "                                                                                "
     ]
    },
    {
     "name": "stdout",
     "output_type": "stream",
     "text": [
      "Saved to: datamart/gold/feature_store/gold_feature_store_2024_12_01.parquet\n",
      "\n",
      "--- Validating Feature Store and Label Store Integration ---\n",
      "Feature store: 215376 rows, 71 columns\n",
      "Label store: 8974 rows\n",
      "Common columns between feature and label stores: {'snapshot_date', 'Customer_ID', 'loan_id'}\n",
      "Joined data: 8974 rows\n",
      "Records with mob=6 in feature store: 8974\n",
      "Records with loan_id (non-null) in feature store: 8974\n",
      "\n",
      "Checking for potential data leakage...\n",
      "No obvious data leakage detected in column names.\n",
      "\n",
      "Sample of joined data (feature store + label store):\n",
      "Showing columns: ['Customer_ID', 'snapshot_date', 'loan_id', 'mob', 'Annual_Income', 'Credit_Mix_Score', 'Combined_Risk_Score', 'label', 'label_def']\n",
      "+-----------+-------------+--------------------+---+-------------+----------------+-------------------+-----+----------+\n",
      "|Customer_ID|snapshot_date|             loan_id|mob|Annual_Income|Credit_Mix_Score|Combined_Risk_Score|label| label_def|\n",
      "+-----------+-------------+--------------------+---+-------------+----------------+-------------------+-----+----------+\n",
      "| CUS_0x102e|   2024-10-01|CUS_0x102e_2024_0...|6.0|     50807.44|             1.0|                3.0|    1|30dpd_6mob|\n",
      "| CUS_0x109d|   2024-10-01|CUS_0x109d_2024_0...|6.0|     49140.87|             0.0|                0.0|    0|30dpd_6mob|\n",
      "| CUS_0x112e|   2024-10-01|CUS_0x112e_2024_0...|6.0|     20162.26|             1.0|                1.0|    0|30dpd_6mob|\n",
      "| CUS_0x1183|   2024-10-01|CUS_0x1183_2024_0...|6.0|    134393.73|             2.0|                5.0|    0|30dpd_6mob|\n",
      "| CUS_0x1220|   2024-10-01|CUS_0x1220_2024_0...|6.0|    128494.52|             2.0|                5.0|    0|30dpd_6mob|\n",
      "+-----------+-------------+--------------------+---+-------------+----------------+-------------------+-----+----------+\n",
      "only showing top 5 rows\n",
      "\n",
      "\n",
      "Join validation complete!\n",
      "Pipeline completed successfully!\n"
     ]
    }
   ],
   "source": [
    "import os\n",
    "import glob\n",
    "import pandas as pd\n",
    "from datetime import datetime, timedelta\n",
    "from dateutil.relativedelta import relativedelta\n",
    "import pyspark\n",
    "import pyspark.sql.functions as F\n",
    "from pyspark.sql.functions import col\n",
    "\n",
    "# Import label store processing scripts\n",
    "import utils.data_processing_bronze_table\n",
    "import utils.data_processing_silver_table\n",
    "import utils.data_processing_gold_table\n",
    "\n",
    "# Import feature store processing scripts\n",
    "import utils.data_processing_feature_bronze_table\n",
    "import utils.data_processing_feature_silver_table\n",
    "import utils.data_processing_feature_gold_table\n",
    "\n",
    "\n",
    "def main():\n",
    "    # Initialize SparkSession\n",
    "    spark = pyspark.sql.SparkSession.builder \\\n",
    "        .appName(\"feature_store_pipeline\") \\\n",
    "        .master(\"local[*]\") \\\n",
    "        .getOrCreate()\n",
    "\n",
    "    # Set log level to ERROR to hide warnings\n",
    "    spark.sparkContext.setLogLevel(\"ERROR\")\n",
    "\n",
    "    # Set up config\n",
    "    start_date_str = \"2023-01-01\"\n",
    "    end_date_str = \"2024-12-01\"\n",
    "\n",
    "    # Generate list of dates to process\n",
    "    dates_str_lst = generate_first_of_month_dates(start_date_str, end_date_str)\n",
    "    print(\"Processing dates:\", dates_str_lst)\n",
    "\n",
    "    # Create directory structure\n",
    "    create_directories()\n",
    "\n",
    "    # Process Label Store\n",
    "    process_label_store(spark, dates_str_lst)\n",
    "\n",
    "    # Process Feature Store\n",
    "    process_feature_store(spark, dates_str_lst)\n",
    "\n",
    "    # Join feature store and label store to validate completeness\n",
    "    validate_joined_data(spark)\n",
    "\n",
    "    print(\"Pipeline completed successfully!\")\n",
    "\n",
    "\n",
    "def generate_first_of_month_dates(start_date_str, end_date_str):\n",
    "    \"\"\"Generate a list of first-of-month dates between start and end dates\"\"\"\n",
    "    # Convert the date strings to datetime objects\n",
    "    start_date = datetime.strptime(start_date_str, \"%Y-%m-%d\")\n",
    "    end_date = datetime.strptime(end_date_str, \"%Y-%m-%d\")\n",
    "    \n",
    "    # List to store the first of month dates\n",
    "    first_of_month_dates = []\n",
    "\n",
    "    # Start from the first of the month of the start_date\n",
    "    current_date = datetime(start_date.year, start_date.month, 1)\n",
    "\n",
    "    while current_date <= end_date:\n",
    "        # Append the date in yyyy-mm-dd format\n",
    "        first_of_month_dates.append(current_date.strftime(\"%Y-%m-%d\"))\n",
    "        \n",
    "        # Move to the first of the next month\n",
    "        if current_date.month == 12:\n",
    "            current_date = datetime(current_date.year + 1, 1, 1)\n",
    "        else:\n",
    "            current_date = datetime(current_date.year, current_date.month + 1, 1)\n",
    "\n",
    "    return first_of_month_dates\n",
    "\n",
    "\n",
    "def create_directories():\n",
    "    \"\"\"Create all necessary directories for the data pipeline\"\"\"\n",
    "    # Label store directories\n",
    "    directories = [\n",
    "        \"datamart/bronze/lms/\",\n",
    "        \"datamart/silver/loan_daily/\",\n",
    "        \"datamart/gold/label_store/\",\n",
    "        \n",
    "        # Feature store directories\n",
    "        \"datamart/bronze/clickstream/\",\n",
    "        \"datamart/bronze/attributes/\",\n",
    "        \"datamart/bronze/financials/\",\n",
    "        \"datamart/bronze/loan/\",  # Added loan directory\n",
    "        \"datamart/silver/clickstream/\",\n",
    "        \"datamart/silver/attributes/\",\n",
    "        \"datamart/silver/financials/\",\n",
    "        \"datamart/silver/loan/\",  # Added loan directory\n",
    "        \"datamart/gold/feature_store/\"\n",
    "    ]\n",
    "    \n",
    "    for directory in directories:\n",
    "        if not os.path.exists(directory):\n",
    "            os.makedirs(directory)\n",
    "            print(f\"Created directory: {directory}\")\n",
    "\n",
    "\n",
    "def process_label_store(spark, dates_str_lst):\n",
    "    \"\"\"Process all label store components\"\"\"\n",
    "    print(\"\\n--- Processing Label Store ---\")\n",
    "    \n",
    "    # Directory paths\n",
    "    bronze_lms_directory = \"datamart/bronze/lms/\"\n",
    "    silver_loan_daily_directory = \"datamart/silver/loan_daily/\"\n",
    "    gold_label_store_directory = \"datamart/gold/label_store/\"\n",
    "    \n",
    "    # Run bronze backfill for label store\n",
    "    print(\"\\nProcessing Bronze Label Store Tables:\")\n",
    "    for date_str in dates_str_lst:\n",
    "        utils.data_processing_bronze_table.process_bronze_table(date_str, bronze_lms_directory, spark)\n",
    "    \n",
    "    # Run silver backfill for label store\n",
    "    print(\"\\nProcessing Silver Label Store Tables:\")\n",
    "    for date_str in dates_str_lst:\n",
    "        utils.data_processing_silver_table.process_silver_table(date_str, bronze_lms_directory, silver_loan_daily_directory, spark)\n",
    "    \n",
    "    # Run gold backfill for label store\n",
    "    print(\"\\nProcessing Gold Label Store Tables:\")\n",
    "    for date_str in dates_str_lst:\n",
    "        utils.data_processing_gold_table.process_labels_gold_table(date_str, silver_loan_daily_directory, gold_label_store_directory, spark, dpd=30, mob=6)\n",
    "\n",
    "\n",
    "def process_feature_store(spark, dates_str_lst):\n",
    "    \"\"\"Process all feature store components\"\"\"\n",
    "    print(\"\\n--- Processing Feature Store ---\")\n",
    "    \n",
    "    # Bronze directory paths\n",
    "    bronze_clickstream_directory = \"datamart/bronze/clickstream/\"\n",
    "    bronze_attributes_directory = \"datamart/bronze/attributes/\"\n",
    "    bronze_financials_directory = \"datamart/bronze/financials/\"\n",
    "    bronze_loan_directory = \"datamart/bronze/loan/\"  # Added loan directory\n",
    "    \n",
    "    # Silver directory paths\n",
    "    silver_clickstream_directory = \"datamart/silver/clickstream/\"\n",
    "    silver_attributes_directory = \"datamart/silver/attributes/\"\n",
    "    silver_financials_directory = \"datamart/silver/financials/\"\n",
    "    silver_loan_directory = \"datamart/silver/loan/\"  # Added loan directory\n",
    "    \n",
    "    # Gold directory path\n",
    "    gold_feature_store_directory = \"datamart/gold/feature_store/\"\n",
    "    \n",
    "    # Run bronze backfill for feature store\n",
    "    print(\"\\nProcessing Bronze Feature Store Tables:\")\n",
    "    for date_str in dates_str_lst:\n",
    "        utils.data_processing_feature_bronze_table.process_bronze_clickstream(date_str, bronze_clickstream_directory, spark)\n",
    "        utils.data_processing_feature_bronze_table.process_bronze_attributes(date_str, bronze_attributes_directory, spark)\n",
    "        utils.data_processing_feature_bronze_table.process_bronze_financials(date_str, bronze_financials_directory, spark)\n",
    "        utils.data_processing_feature_bronze_table.process_bronze_loan(date_str, bronze_loan_directory, spark)  # Added loan processing\n",
    "    \n",
    "    # Run silver backfill for feature store\n",
    "    print(\"\\nProcessing Silver Feature Store Tables:\")\n",
    "    for date_str in dates_str_lst:\n",
    "        utils.data_processing_feature_silver_table.process_silver_clickstream(date_str, bronze_clickstream_directory, silver_clickstream_directory, spark)\n",
    "        utils.data_processing_feature_silver_table.process_silver_attributes(date_str, bronze_attributes_directory, silver_attributes_directory, spark)\n",
    "        utils.data_processing_feature_silver_table.process_silver_financials(date_str, bronze_financials_directory, silver_financials_directory, spark)\n",
    "        utils.data_processing_feature_silver_table.process_silver_loan(date_str, bronze_loan_directory, silver_loan_directory, spark)  # Added loan processing\n",
    "        \n",
    "    # Run gold backfill for feature store\n",
    "    print(\"\\nProcessing Gold Feature Store Tables:\")\n",
    "    for date_str in dates_str_lst:\n",
    "        utils.data_processing_feature_gold_table.process_gold_feature_store(\n",
    "            date_str,\n",
    "            silver_clickstream_directory,\n",
    "            silver_attributes_directory,\n",
    "            silver_financials_directory,\n",
    "            silver_loan_directory,  # Added loan directory parameter\n",
    "            gold_feature_store_directory,\n",
    "            spark\n",
    "        )\n",
    "\n",
    "\n",
    "def validate_joined_data(spark):\n",
    "    \"\"\"\n",
    "    Join feature store and label store to validate data completeness and\n",
    "    ensure there's no data leakage.\n",
    "    \"\"\"\n",
    "    from pyspark.sql.functions import col  # Import col function locally\n",
    "    \n",
    "    print(\"\\n--- Validating Feature Store and Label Store Integration ---\")\n",
    "    \n",
    "    # Get all gold feature store files\n",
    "    gold_feature_store_directory = \"datamart/gold/feature_store/\"\n",
    "    feature_files = glob.glob(os.path.join(gold_feature_store_directory, \"*.parquet\"))\n",
    "    if not feature_files:\n",
    "        print(\"No feature store files found!\")\n",
    "        return\n",
    "        \n",
    "    # Get all gold label store files\n",
    "    gold_label_store_directory = \"datamart/gold/label_store/\"\n",
    "    label_files = glob.glob(os.path.join(gold_label_store_directory, \"*.parquet\"))\n",
    "    if not label_files:\n",
    "        print(\"No label store files found!\")\n",
    "        return\n",
    "    \n",
    "    # Read feature store data\n",
    "    feature_store_df = spark.read.parquet(*feature_files)\n",
    "    feature_count = feature_store_df.count()\n",
    "    feature_columns = len(feature_store_df.columns)\n",
    "    print(f\"Feature store: {feature_count} rows, {feature_columns} columns\")\n",
    "    \n",
    "    # Read label store data\n",
    "    label_store_df = spark.read.parquet(*label_files)\n",
    "    label_count = label_store_df.count()\n",
    "    print(f\"Label store: {label_count} rows\")\n",
    "    \n",
    "    # To avoid column ambiguity, rename columns in label store that might conflict\n",
    "    # First check what columns exist in both dataframes\n",
    "    feature_cols = set(feature_store_df.columns)\n",
    "    label_cols = set(label_store_df.columns)\n",
    "    common_cols = feature_cols.intersection(label_cols)\n",
    "    print(f\"Common columns between feature and label stores: {common_cols}\")\n",
    "    \n",
    "    # Rename conflicting columns in label store (except join keys)\n",
    "    join_keys = [\"Customer_ID\", \"snapshot_date\"]\n",
    "    label_store_renamed = label_store_df\n",
    "    for col_name in common_cols:\n",
    "        if col_name not in join_keys:\n",
    "            label_store_renamed = label_store_renamed.withColumnRenamed(col_name, f\"label_{col_name}\")\n",
    "    \n",
    "    # Join feature and label data on Customer_ID and snapshot_date\n",
    "    joined_df = feature_store_df.join(\n",
    "        label_store_renamed,\n",
    "        on=join_keys,\n",
    "        how=\"inner\"\n",
    "    )\n",
    "    \n",
    "    joined_count = joined_df.count()\n",
    "    print(f\"Joined data: {joined_count} rows\")\n",
    "    \n",
    "    # Additional validation: Check mob=6 filter worked correctly\n",
    "    mob6_records = feature_store_df.filter(col(\"mob\") == 6).count()\n",
    "    print(f\"Records with mob=6 in feature store: {mob6_records}\")\n",
    "    \n",
    "    # Check records with non-null loan_id (should be same as mob=6 records)\n",
    "    loan_id_records = feature_store_df.filter(col(\"loan_id\").isNotNull()).count()\n",
    "    print(f\"Records with loan_id (non-null) in feature store: {loan_id_records}\")\n",
    "    \n",
    "    # Check for potential data leakage\n",
    "    print(\"\\nChecking for potential data leakage...\")\n",
    "    # Ensure no direct label-related fields in feature store\n",
    "    leakage_terms = [\"label\", \"default\"]  # Removed \"dpd\" and \"overdue\" as they're legitimate features\n",
    "    potential_leakage_cols = [col_name for col_name in feature_store_df.columns \n",
    "                             if any(term in col_name.lower() for term in leakage_terms)]\n",
    "    \n",
    "    if potential_leakage_cols:\n",
    "        print(\"WARNING: Potential data leakage detected in these columns:\")\n",
    "        for col_name in potential_leakage_cols:\n",
    "            print(f\" - {col_name}\")\n",
    "    else:\n",
    "        print(\"No obvious data leakage detected in column names.\")\n",
    "    \n",
    "    # Display sample of joined data\n",
    "    print(\"\\nSample of joined data (feature store + label store):\")\n",
    "    # Select columns that definitely exist and are unambiguous\n",
    "    base_columns = [\"Customer_ID\", \"snapshot_date\"]\n",
    "    \n",
    "    # Add feature store specific columns\n",
    "    feature_specific_cols = [\"loan_id\", \"mob\", \"Annual_Income\", \"Credit_Mix_Score\", \"Combined_Risk_Score\"]\n",
    "    for col_name in feature_specific_cols:\n",
    "        if col_name in feature_store_df.columns:\n",
    "            base_columns.append(col_name)\n",
    "    \n",
    "    # Add label store columns (with renamed prefix)\n",
    "    if \"label_label\" in joined_df.columns:\n",
    "        base_columns.append(\"label_label\")\n",
    "    elif \"label\" in joined_df.columns:\n",
    "        base_columns.append(\"label\")\n",
    "        \n",
    "    if \"label_label_def\" in joined_df.columns:\n",
    "        base_columns.append(\"label_label_def\")\n",
    "    elif \"label_def\" in joined_df.columns:\n",
    "        base_columns.append(\"label_def\")\n",
    "    \n",
    "    # Show sample with available columns\n",
    "    available_columns = [col_name for col_name in base_columns if col_name in joined_df.columns]\n",
    "    print(f\"Showing columns: {available_columns}\")\n",
    "    \n",
    "    if available_columns:\n",
    "        joined_df.select(*available_columns).show(5)\n",
    "    else:\n",
    "        print(\"No suitable columns found for display\")\n",
    "        print(f\"All joined dataframe columns: {joined_df.columns}\")\n",
    "    \n",
    "    print(\"\\nJoin validation complete!\")\n",
    "\n",
    "\n",
    "if __name__ == \"__main__\":\n",
    "    main()"
   ]
  },
  {
   "cell_type": "code",
   "execution_count": null,
   "id": "58f82125-b20f-4a19-a02c-c16cc1b4e2a0",
   "metadata": {},
   "outputs": [],
   "source": []
  }
 ],
 "metadata": {
  "kernelspec": {
   "display_name": "Python 3 (ipykernel)",
   "language": "python",
   "name": "python3"
  },
  "language_info": {
   "codemirror_mode": {
    "name": "ipython",
    "version": 3
   },
   "file_extension": ".py",
   "mimetype": "text/x-python",
   "name": "python",
   "nbconvert_exporter": "python",
   "pygments_lexer": "ipython3",
   "version": "3.12.10"
  }
 },
 "nbformat": 4,
 "nbformat_minor": 5
}
